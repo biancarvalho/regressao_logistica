{
 "cells": [
  {
   "cell_type": "markdown",
   "id": "c93a3611",
   "metadata": {},
   "source": [
    "# Predict breast cancer"
   ]
  },
  {
   "cell_type": "code",
   "execution_count": 5,
   "id": "3b03f9f8",
   "metadata": {},
   "outputs": [],
   "source": [
    "import numpy as np\n",
    "import pandas as pd \n",
    "\n",
    "import seaborn as sns\n",
    "import matplotlib.pyplot as plt"
   ]
  },
  {
   "cell_type": "markdown",
   "id": "ff3adb94",
   "metadata": {},
   "source": [
    "## Classe de regressão logística\n",
    "*Faz o trabalho pesado em regressão logística.*"
   ]
  },
  {
   "cell_type": "code",
   "execution_count": 6,
   "id": "7a379adb",
   "metadata": {},
   "outputs": [],
   "source": [
    "class LogisticRegression:\n",
    "    def __init__(self, learning_rate=0.001, n_iters=1000):\n",
    "        self.lr = learning_rate\n",
    "        self.n_iters = n_iters\n",
    "        self.weights = None\n",
    "        self.bias = None\n",
    "\n",
    "    def fit(self, X, y):\n",
    "        n_samples, n_features = X.shape\n",
    "\n",
    "        # init parameters\n",
    "        self.weights = np.zeros(n_features)\n",
    "        self.bias = 0\n",
    "\n",
    "        # gradient descent\n",
    "        for _ in range(self.n_iters):\n",
    "            # approximate y with linear combination of weights and x, plus bias\n",
    "            linear_model = np.dot(X, self.weights) + self.bias\n",
    "            # apply sigmoid function\n",
    "            y_predicted = self._sigmoid(linear_model)\n",
    "\n",
    "            # compute gradients\n",
    "            dw = (1 / n_samples) * np.dot(X.T, (y_predicted - y))\n",
    "            db = (1 / n_samples) * np.sum(y_predicted - y)\n",
    "            # update parameters\n",
    "            self.weights -= self.lr * dw\n",
    "            self.bias -= self.lr * db\n",
    "\n",
    "    def predict(self, X):\n",
    "        linear_model = np.dot(X, self.weights) + self.bias\n",
    "        y_predicted = self._sigmoid(linear_model)\n",
    "        y_predicted_cls = [1 if i > 0.5 else 0 for i in y_predicted]\n",
    "        \n",
    "        return np.array(y_predicted_cls)\n",
    "    \n",
    "    def plot(self, X, y, legend):\n",
    "        # only plots if X refers to exactly 2 variables\n",
    "        if X.shape[1] != 2:\n",
    "            raise ValueError(\"Can plot only for X's that refers to exactly 2 vars.\")\n",
    "        \n",
    "        slope = -(self.weights[0]/self.weights[1])\n",
    "        intercept = -(self.bias/self.weights[1])\n",
    "        predictions = self.predict(X)\n",
    "\n",
    "        sns.set_style('white')\n",
    "        sns.scatterplot(x = X[:,0], y= X[:,1], hue=y.reshape(-1), style=predictions.reshape(-1));\n",
    "\n",
    "        ax = plt.gca()\n",
    "        ax.autoscale(False)\n",
    "        x_vals = np.array(ax.get_xlim())\n",
    "        y_vals = intercept + (slope * x_vals)\n",
    "        plt.plot(x_vals, y_vals, c=\"k\");\n",
    "        \n",
    "        plt.xlabel(legend[0])\n",
    "        plt.ylabel(legend[1])\n",
    "\n",
    "    def _sigmoid(self, x):\n",
    "        return 1 / (1 + np.exp(-x))"
   ]
  },
  {
   "cell_type": "markdown",
   "id": "dfbbf2ae",
   "metadata": {},
   "source": [
    "## Importando a base\n",
    "*Importa a base, seleciona as variáveis, limpa, normaliza.*\n"
   ]
  },
  {
   "cell_type": "code",
   "execution_count": 18,
   "id": "7f6ebfeb",
   "metadata": {
    "scrolled": true
   },
   "outputs": [],
   "source": [
    "from sklearn.model_selection import train_test_split\n",
    "from sklearn import datasets\n",
    "\n",
    "df = datasets.load_breast_cancer()\n",
    "X, y = bc.data, bc.target"
   ]
  },
  {
   "cell_type": "markdown",
   "id": "2d68ed28",
   "metadata": {},
   "source": [
    "# ======================================================== #\n",
    "# =================== Seleção de Dados =================== #\n",
    "# ======================================================== #\n",
    "dados = {\n",
    "    'X' : ['Temperature (K)', 'Radius(R/Ro)'],\n",
    "    'y' : 'Spectral Class',\n",
    "    'normalizada' : False\n",
    "}\n",
    "# ======================================================== #\n",
    "\n",
    "\n",
    "df = df[ dados['X']+[dados['y']] ]\n",
    "df = df.dropna()\n",
    "\n",
    "if not dados['normalizada']:\n",
    "    for col in dados['X']:\n",
    "        df[[col]] = df[[col]]/df[[col]].mean()\n",
    "\n",
    "X = df[ dados['X'] ].to_numpy()\n",
    "y = df[[ dados['y'] ]].to_numpy()\n",
    "y = np.hstack((y)).T\n",
    "\n",
    "df.sample(5)"
   ]
  },
  {
   "cell_type": "markdown",
   "id": "5b29d228",
   "metadata": {},
   "source": [
    "## Aplicando a regressão logística\n",
    "*Aplica a função e avalia a precisão da previsão.*"
   ]
  },
  {
   "cell_type": "code",
   "execution_count": 19,
   "id": "6b810b2f",
   "metadata": {},
   "outputs": [
    {
     "name": "stdout",
     "output_type": "stream",
     "text": [
      "A precisão do modelo é: 0.9086115992970123\n"
     ]
    }
   ],
   "source": [
    "regressor = LogisticRegression(learning_rate=0.0001, n_iters=1000)\n",
    "regressor.fit(X, y)\n",
    "predictions = regressor.predict(X)\n",
    "\n",
    "def accuracy(y_true, y_pred):\n",
    "    accuracy = np.sum(y_true == y_pred) / len(y_true)\n",
    "    return accuracy\n",
    "\n",
    "print(f\"A precisão do modelo é: {accuracy(y, predictions)}\")"
   ]
  },
  {
   "cell_type": "markdown",
   "id": "2f8e77d8",
   "metadata": {},
   "source": [
    "# Plotando os resultados visualmente\n",
    "*~ se você estiver analisando exatamente 2 vars numéricas ~*"
   ]
  },
  {
   "cell_type": "code",
   "execution_count": 20,
   "id": "c5380d5c",
   "metadata": {
    "scrolled": true
   },
   "outputs": [
    {
     "name": "stdout",
     "output_type": "stream",
     "text": [
      "Sem visualização disponível.\n"
     ]
    }
   ],
   "source": [
    "try:\n",
    "    regressor.plot(X, y, dados['X'])\n",
    "except:\n",
    "    print(\"Sem visualização disponível.\")"
   ]
  },
  {
   "cell_type": "markdown",
   "id": "2bf694ba",
   "metadata": {},
   "source": [
    "## Mostrando os pesos\n",
    "*Cria uma tabela mostrando os pesos de avaliação das variáveis numéricas.*"
   ]
  },
  {
   "cell_type": "code",
   "execution_count": 23,
   "id": "9e15983a",
   "metadata": {},
   "outputs": [
    {
     "data": {
      "text/html": [
       "<div>\n",
       "<style scoped>\n",
       "    .dataframe tbody tr th:only-of-type {\n",
       "        vertical-align: middle;\n",
       "    }\n",
       "\n",
       "    .dataframe tbody tr th {\n",
       "        vertical-align: top;\n",
       "    }\n",
       "\n",
       "    .dataframe thead th {\n",
       "        text-align: right;\n",
       "    }\n",
       "</style>\n",
       "<table border=\"1\" class=\"dataframe\">\n",
       "  <thead>\n",
       "    <tr style=\"text-align: right;\">\n",
       "      <th></th>\n",
       "      <th>Pesos</th>\n",
       "    </tr>\n",
       "  </thead>\n",
       "  <tbody>\n",
       "    <tr>\n",
       "      <th>mean radius</th>\n",
       "      <td>0.038284</td>\n",
       "    </tr>\n",
       "    <tr>\n",
       "      <th>mean texture</th>\n",
       "      <td>0.054792</td>\n",
       "    </tr>\n",
       "    <tr>\n",
       "      <th>mean perimeter</th>\n",
       "      <td>0.223411</td>\n",
       "    </tr>\n",
       "    <tr>\n",
       "      <th>mean area</th>\n",
       "      <td>0.101491</td>\n",
       "    </tr>\n",
       "    <tr>\n",
       "      <th>mean smoothness</th>\n",
       "      <td>0.000358</td>\n",
       "    </tr>\n",
       "    <tr>\n",
       "      <th>mean compactness</th>\n",
       "      <td>-0.000134</td>\n",
       "    </tr>\n",
       "    <tr>\n",
       "      <th>mean concavity</th>\n",
       "      <td>-0.000659</td>\n",
       "    </tr>\n",
       "    <tr>\n",
       "      <th>mean concave points</th>\n",
       "      <td>-0.000282</td>\n",
       "    </tr>\n",
       "    <tr>\n",
       "      <th>mean symmetry</th>\n",
       "      <td>0.000681</td>\n",
       "    </tr>\n",
       "    <tr>\n",
       "      <th>mean fractal dimension</th>\n",
       "      <td>0.000283</td>\n",
       "    </tr>\n",
       "    <tr>\n",
       "      <th>radius error</th>\n",
       "      <td>0.000143</td>\n",
       "    </tr>\n",
       "    <tr>\n",
       "      <th>texture error</th>\n",
       "      <td>0.003648</td>\n",
       "    </tr>\n",
       "    <tr>\n",
       "      <th>perimeter error</th>\n",
       "      <td>-0.000995</td>\n",
       "    </tr>\n",
       "    <tr>\n",
       "      <th>area error</th>\n",
       "      <td>-0.096296</td>\n",
       "    </tr>\n",
       "    <tr>\n",
       "      <th>smoothness error</th>\n",
       "      <td>0.000020</td>\n",
       "    </tr>\n",
       "    <tr>\n",
       "      <th>compactness error</th>\n",
       "      <td>-0.000040</td>\n",
       "    </tr>\n",
       "    <tr>\n",
       "      <th>concavity error</th>\n",
       "      <td>-0.000078</td>\n",
       "    </tr>\n",
       "    <tr>\n",
       "      <th>concave points error</th>\n",
       "      <td>-0.000008</td>\n",
       "    </tr>\n",
       "    <tr>\n",
       "      <th>symmetry error</th>\n",
       "      <td>0.000060</td>\n",
       "    </tr>\n",
       "    <tr>\n",
       "      <th>fractal dimension error</th>\n",
       "      <td>0.000005</td>\n",
       "    </tr>\n",
       "    <tr>\n",
       "      <th>worst radius</th>\n",
       "      <td>0.040296</td>\n",
       "    </tr>\n",
       "    <tr>\n",
       "      <th>worst texture</th>\n",
       "      <td>0.069340</td>\n",
       "    </tr>\n",
       "    <tr>\n",
       "      <th>worst perimeter</th>\n",
       "      <td>0.225760</td>\n",
       "    </tr>\n",
       "    <tr>\n",
       "      <th>worst area</th>\n",
       "      <td>-0.138987</td>\n",
       "    </tr>\n",
       "    <tr>\n",
       "      <th>worst smoothness</th>\n",
       "      <td>0.000454</td>\n",
       "    </tr>\n",
       "    <tr>\n",
       "      <th>worst compactness</th>\n",
       "      <td>-0.000617</td>\n",
       "    </tr>\n",
       "    <tr>\n",
       "      <th>worst concavity</th>\n",
       "      <td>-0.001361</td>\n",
       "    </tr>\n",
       "    <tr>\n",
       "      <th>worst concave points</th>\n",
       "      <td>-0.000310</td>\n",
       "    </tr>\n",
       "    <tr>\n",
       "      <th>worst symmetry</th>\n",
       "      <td>0.000937</td>\n",
       "    </tr>\n",
       "    <tr>\n",
       "      <th>worst fractal dimension</th>\n",
       "      <td>0.000268</td>\n",
       "    </tr>\n",
       "  </tbody>\n",
       "</table>\n",
       "</div>"
      ],
      "text/plain": [
       "                            Pesos\n",
       "mean radius              0.038284\n",
       "mean texture             0.054792\n",
       "mean perimeter           0.223411\n",
       "mean area                0.101491\n",
       "mean smoothness          0.000358\n",
       "mean compactness        -0.000134\n",
       "mean concavity          -0.000659\n",
       "mean concave points     -0.000282\n",
       "mean symmetry            0.000681\n",
       "mean fractal dimension   0.000283\n",
       "radius error             0.000143\n",
       "texture error            0.003648\n",
       "perimeter error         -0.000995\n",
       "area error              -0.096296\n",
       "smoothness error         0.000020\n",
       "compactness error       -0.000040\n",
       "concavity error         -0.000078\n",
       "concave points error    -0.000008\n",
       "symmetry error           0.000060\n",
       "fractal dimension error  0.000005\n",
       "worst radius             0.040296\n",
       "worst texture            0.069340\n",
       "worst perimeter          0.225760\n",
       "worst area              -0.138987\n",
       "worst smoothness         0.000454\n",
       "worst compactness       -0.000617\n",
       "worst concavity         -0.001361\n",
       "worst concave points    -0.000310\n",
       "worst symmetry           0.000937\n",
       "worst fractal dimension  0.000268"
      ]
     },
     "execution_count": 23,
     "metadata": {},
     "output_type": "execute_result"
    }
   ],
   "source": [
    "norma_pesos = pd.DataFrame(regressor.weights)/pd.DataFrame(regressor.weights).abs().sum()\n",
    "norma_pesos = norma_pesos[0].values.tolist()\n",
    "\n",
    "dfpesos = pd.DataFrame({'Pesos':norma_pesos}, index = df.feature_names)\n",
    "\n",
    "dfpesos"
   ]
  }
 ],
 "metadata": {
  "kernelspec": {
   "display_name": "Python [conda env:root] *",
   "language": "python",
   "name": "conda-root-py"
  },
  "language_info": {
   "codemirror_mode": {
    "name": "ipython",
    "version": 3
   },
   "file_extension": ".py",
   "mimetype": "text/x-python",
   "name": "python",
   "nbconvert_exporter": "python",
   "pygments_lexer": "ipython3",
   "version": "3.8.8"
  }
 },
 "nbformat": 4,
 "nbformat_minor": 5
}
