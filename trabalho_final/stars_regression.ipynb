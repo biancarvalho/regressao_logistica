{
 "cells": [
  {
   "cell_type": "markdown",
   "metadata": {},
   "source": [
    "# Trabalho Final - Algebra Linear"
   ]
  },
  {
   "cell_type": "code",
   "execution_count": 1,
   "metadata": {},
   "outputs": [],
   "source": [
    "import numpy as np\n",
    "import pandas as pd\n",
    "import matplotlib.pyplot as plt\n",
    "from sklearn.datasets import make_classification\n",
    "import seaborn as sns"
   ]
  },
  {
   "cell_type": "markdown",
   "metadata": {},
   "source": [
    "## Inicialmente, importando a base de dados e fazendo pequenas análises."
   ]
  },
  {
   "cell_type": "code",
   "execution_count": 2,
   "metadata": {},
   "outputs": [
    {
     "data": {
      "text/html": [
       "<div>\n",
       "<style scoped>\n",
       "    .dataframe tbody tr th:only-of-type {\n",
       "        vertical-align: middle;\n",
       "    }\n",
       "\n",
       "    .dataframe tbody tr th {\n",
       "        vertical-align: top;\n",
       "    }\n",
       "\n",
       "    .dataframe thead th {\n",
       "        text-align: right;\n",
       "    }\n",
       "</style>\n",
       "<table border=\"1\" class=\"dataframe\">\n",
       "  <thead>\n",
       "    <tr style=\"text-align: right;\">\n",
       "      <th></th>\n",
       "      <th>Temperature (K)</th>\n",
       "      <th>Luminosity(L/Lo)</th>\n",
       "      <th>Radius(R/Ro)</th>\n",
       "      <th>Absolute magnitude(Mv)</th>\n",
       "      <th>Star type</th>\n",
       "      <th>Star color</th>\n",
       "      <th>Spectral Class</th>\n",
       "    </tr>\n",
       "  </thead>\n",
       "  <tbody>\n",
       "    <tr>\n",
       "      <th>0</th>\n",
       "      <td>3068</td>\n",
       "      <td>0.002400</td>\n",
       "      <td>0.1700</td>\n",
       "      <td>16.12</td>\n",
       "      <td>0</td>\n",
       "      <td>Red</td>\n",
       "      <td>1</td>\n",
       "    </tr>\n",
       "    <tr>\n",
       "      <th>1</th>\n",
       "      <td>3042</td>\n",
       "      <td>0.000500</td>\n",
       "      <td>0.1542</td>\n",
       "      <td>16.60</td>\n",
       "      <td>0</td>\n",
       "      <td>Red</td>\n",
       "      <td>1</td>\n",
       "    </tr>\n",
       "    <tr>\n",
       "      <th>2</th>\n",
       "      <td>2600</td>\n",
       "      <td>0.000300</td>\n",
       "      <td>0.1020</td>\n",
       "      <td>18.70</td>\n",
       "      <td>0</td>\n",
       "      <td>Red</td>\n",
       "      <td>1</td>\n",
       "    </tr>\n",
       "    <tr>\n",
       "      <th>3</th>\n",
       "      <td>2800</td>\n",
       "      <td>0.000200</td>\n",
       "      <td>0.1600</td>\n",
       "      <td>16.65</td>\n",
       "      <td>0</td>\n",
       "      <td>Red</td>\n",
       "      <td>1</td>\n",
       "    </tr>\n",
       "    <tr>\n",
       "      <th>4</th>\n",
       "      <td>1939</td>\n",
       "      <td>0.000138</td>\n",
       "      <td>0.1030</td>\n",
       "      <td>20.06</td>\n",
       "      <td>0</td>\n",
       "      <td>Red</td>\n",
       "      <td>1</td>\n",
       "    </tr>\n",
       "    <tr>\n",
       "      <th>...</th>\n",
       "      <td>...</td>\n",
       "      <td>...</td>\n",
       "      <td>...</td>\n",
       "      <td>...</td>\n",
       "      <td>...</td>\n",
       "      <td>...</td>\n",
       "      <td>...</td>\n",
       "    </tr>\n",
       "    <tr>\n",
       "      <th>217</th>\n",
       "      <td>19400</td>\n",
       "      <td>10920.000000</td>\n",
       "      <td>6.0300</td>\n",
       "      <td>-3.08</td>\n",
       "      <td>3</td>\n",
       "      <td>Blue-white</td>\n",
       "      <td>0</td>\n",
       "    </tr>\n",
       "    <tr>\n",
       "      <th>218</th>\n",
       "      <td>17140</td>\n",
       "      <td>883.000000</td>\n",
       "      <td>5.6530</td>\n",
       "      <td>-2.64</td>\n",
       "      <td>3</td>\n",
       "      <td>Blue-white</td>\n",
       "      <td>0</td>\n",
       "    </tr>\n",
       "    <tr>\n",
       "      <th>230</th>\n",
       "      <td>24145</td>\n",
       "      <td>382993.000000</td>\n",
       "      <td>1494.0000</td>\n",
       "      <td>-8.84</td>\n",
       "      <td>5</td>\n",
       "      <td>Blue-white</td>\n",
       "      <td>0</td>\n",
       "    </tr>\n",
       "    <tr>\n",
       "      <th>233</th>\n",
       "      <td>27739</td>\n",
       "      <td>849420.000000</td>\n",
       "      <td>1252.0000</td>\n",
       "      <td>-7.59</td>\n",
       "      <td>5</td>\n",
       "      <td>Blue-white</td>\n",
       "      <td>0</td>\n",
       "    </tr>\n",
       "    <tr>\n",
       "      <th>234</th>\n",
       "      <td>21904</td>\n",
       "      <td>748490.000000</td>\n",
       "      <td>1130.0000</td>\n",
       "      <td>-7.67</td>\n",
       "      <td>5</td>\n",
       "      <td>Blue-white</td>\n",
       "      <td>0</td>\n",
       "    </tr>\n",
       "  </tbody>\n",
       "</table>\n",
       "<p>157 rows × 7 columns</p>\n",
       "</div>"
      ],
      "text/plain": [
       "     Temperature (K)  Luminosity(L/Lo)  Radius(R/Ro)  Absolute magnitude(Mv)  \\\n",
       "0               3068          0.002400        0.1700                   16.12   \n",
       "1               3042          0.000500        0.1542                   16.60   \n",
       "2               2600          0.000300        0.1020                   18.70   \n",
       "3               2800          0.000200        0.1600                   16.65   \n",
       "4               1939          0.000138        0.1030                   20.06   \n",
       "..               ...               ...           ...                     ...   \n",
       "217            19400      10920.000000        6.0300                   -3.08   \n",
       "218            17140        883.000000        5.6530                   -2.64   \n",
       "230            24145     382993.000000     1494.0000                   -8.84   \n",
       "233            27739     849420.000000     1252.0000                   -7.59   \n",
       "234            21904     748490.000000     1130.0000                   -7.67   \n",
       "\n",
       "     Star type  Star color  Spectral Class  \n",
       "0            0         Red               1  \n",
       "1            0         Red               1  \n",
       "2            0         Red               1  \n",
       "3            0         Red               1  \n",
       "4            0         Red               1  \n",
       "..         ...         ...             ...  \n",
       "217          3  Blue-white               0  \n",
       "218          3  Blue-white               0  \n",
       "230          5  Blue-white               0  \n",
       "233          5  Blue-white               0  \n",
       "234          5  Blue-white               0  \n",
       "\n",
       "[157 rows x 7 columns]"
      ]
     },
     "execution_count": 2,
     "metadata": {},
     "output_type": "execute_result"
    }
   ],
   "source": [
    "data = pd.read_csv('../trabalho_final/stars_data.csv')\n",
    "\n",
    "data = data[(data['Spectral Class'] == 'M') | (data['Spectral Class'] == 'B')]\n",
    "data['Spectral Class'].replace(to_replace='M', value=1, inplace=True)\n",
    "data['Spectral Class'].replace(to_replace='B', value=0, inplace=True)\n",
    "\n",
    "data"
   ]
  },
  {
   "cell_type": "code",
   "execution_count": 3,
   "metadata": {},
   "outputs": [
    {
     "data": {
      "image/png": "[encoded data removed]",
      "text/plain": [
       "<Figure size 432x288 with 1 Axes>"
      ]
     },
     "metadata": {
      "needs_background": "light"
     },
     "output_type": "display_data"
    }
   ],
   "source": [
    "sns.countplot(x='Spectral Class',data=data,palette='hls')\n",
    "plt.show()"
   ]
  },
  {
   "cell_type": "markdown",
   "metadata": {},
   "source": [
    "## Criando as funções para a Regressão Logística"
   ]
  },
  {
   "cell_type": "markdown",
   "metadata": {},
   "source": [
    "### Função sigmóide (logit)"
   ]
  },
  {
   "cell_type": "code",
   "execution_count": 4,
   "metadata": {},
   "outputs": [],
   "source": [
    "def sigmoid(x):\n",
    "    return 1 / (1 + np.exp(-x))"
   ]
  },
  {
   "cell_type": "markdown",
   "metadata": {},
   "source": [
    "### Função de custo"
   ]
  },
  {
   "cell_type": "code",
   "execution_count": 5,
   "metadata": {},
   "outputs": [],
   "source": [
    "def compute_cost(X, y, theta):\n",
    "    m = len(y)\n",
    "    h = sigmoid(X @ theta)\n",
    "    epsilon = 0.00001\n",
    "    cost = (1/m)*(((-y).T @ np.log(h + epsilon))-((1-y).T @ np.log(1-h + epsilon)))\n",
    "    return cost"
   ]
  },
  {
   "cell_type": "markdown",
   "metadata": {},
   "source": [
    "### Gradiente descendente"
   ]
  },
  {
   "cell_type": "code",
   "execution_count": 6,
   "metadata": {},
   "outputs": [],
   "source": [
    "def gradient_descent(X, y, params, learning_rate, iterations):\n",
    "    m = len(y)\n",
    "    cost_history = np.zeros((iterations,1))\n",
    "\n",
    "    for i in range(iterations):\n",
    "        params = params - (learning_rate/m) * (X.T @ (sigmoid(X @ params) - y)) \n",
    "        cost_history[i] = compute_cost(X, y, params)\n",
    "\n",
    "    return (cost_history, params)"
   ]
  },
  {
   "cell_type": "markdown",
   "metadata": {},
   "source": [
    "### Função de predição\n",
    "    Maior que 0.5 é arredondada p/ 1, menor p/ 0."
   ]
  },
  {
   "cell_type": "code",
   "execution_count": 7,
   "metadata": {},
   "outputs": [],
   "source": [
    "def predict(X, params):\n",
    "    return np.round(sigmoid(X @ params))"
   ]
  },
  {
   "cell_type": "markdown",
   "metadata": {},
   "source": [
    "## Gera dados fake pra testar se tudo beleza\n",
    "curiosamente, estava sim"
   ]
  },
  {
   "cell_type": "code",
   "execution_count": 8,
   "metadata": {},
   "outputs": [],
   "source": [
    "#X, y = make_classification(n_samples=500, n_features=2, n_redundant=0, n_informative=1,\n",
    "#                             n_clusters_per_class=1, random_state=14)\n",
    "#\n",
    "#y = y[:,np.newaxis]\n",
    "#\n",
    "#data = pd.DataFrame(np.hstack((y, X)))\n",
    "#\n",
    "#data = data.rename(columns={0:'col0', 1:'col1', 2:'col2'})\n",
    "#\n",
    "#data"
   ]
  },
  {
   "cell_type": "markdown",
   "metadata": {},
   "source": [
    "## Selecionando cols, normalizando e removendo NaNs\n",
    "    papel importante a ser feito"
   ]
  },
  {
   "cell_type": "code",
   "execution_count": 9,
   "metadata": {
    "scrolled": true
   },
   "outputs": [
    {
     "name": "stderr",
     "output_type": "stream",
     "text": [
      "C:\\Users\\Conda\\anaconda3\\lib\\site-packages\\pandas\\core\\frame.py:3191: SettingWithCopyWarning: \n",
      "A value is trying to be set on a copy of a slice from a DataFrame.\n",
      "Try using .loc[row_indexer,col_indexer] = value instead\n",
      "\n",
      "See the caveats in the documentation: https://pandas.pydata.org/pandas-docs/stable/user_guide/indexing.html#returning-a-view-versus-a-copy\n",
      "  self[k1] = value[k2]\n"
     ]
    },
    {
     "data": {
      "text/html": [
       "<div>\n",
       "<style scoped>\n",
       "    .dataframe tbody tr th:only-of-type {\n",
       "        vertical-align: middle;\n",
       "    }\n",
       "\n",
       "    .dataframe tbody tr th {\n",
       "        vertical-align: top;\n",
       "    }\n",
       "\n",
       "    .dataframe thead th {\n",
       "        text-align: right;\n",
       "    }\n",
       "</style>\n",
       "<table border=\"1\" class=\"dataframe\">\n",
       "  <thead>\n",
       "    <tr style=\"text-align: right;\">\n",
       "      <th></th>\n",
       "      <th>Spectral Class</th>\n",
       "      <th>Temperature (K)</th>\n",
       "      <th>Radius(R/Ro)</th>\n",
       "    </tr>\n",
       "  </thead>\n",
       "  <tbody>\n",
       "    <tr>\n",
       "      <th>0</th>\n",
       "      <td>1</td>\n",
       "      <td>0.381680</td>\n",
       "      <td>0.000672</td>\n",
       "    </tr>\n",
       "    <tr>\n",
       "      <th>1</th>\n",
       "      <td>1</td>\n",
       "      <td>0.378445</td>\n",
       "      <td>0.000610</td>\n",
       "    </tr>\n",
       "    <tr>\n",
       "      <th>2</th>\n",
       "      <td>1</td>\n",
       "      <td>0.323457</td>\n",
       "      <td>0.000403</td>\n",
       "    </tr>\n",
       "    <tr>\n",
       "      <th>3</th>\n",
       "      <td>1</td>\n",
       "      <td>0.348339</td>\n",
       "      <td>0.000633</td>\n",
       "    </tr>\n",
       "    <tr>\n",
       "      <th>4</th>\n",
       "      <td>1</td>\n",
       "      <td>0.241225</td>\n",
       "      <td>0.000407</td>\n",
       "    </tr>\n",
       "    <tr>\n",
       "      <th>...</th>\n",
       "      <td>...</td>\n",
       "      <td>...</td>\n",
       "      <td>...</td>\n",
       "    </tr>\n",
       "    <tr>\n",
       "      <th>217</th>\n",
       "      <td>0</td>\n",
       "      <td>2.413490</td>\n",
       "      <td>0.023849</td>\n",
       "    </tr>\n",
       "    <tr>\n",
       "      <th>218</th>\n",
       "      <td>0</td>\n",
       "      <td>2.132331</td>\n",
       "      <td>0.022358</td>\n",
       "    </tr>\n",
       "    <tr>\n",
       "      <th>230</th>\n",
       "      <td>0</td>\n",
       "      <td>3.003800</td>\n",
       "      <td>5.908954</td>\n",
       "    </tr>\n",
       "    <tr>\n",
       "      <th>233</th>\n",
       "      <td>0</td>\n",
       "      <td>3.450917</td>\n",
       "      <td>4.951814</td>\n",
       "    </tr>\n",
       "    <tr>\n",
       "      <th>234</th>\n",
       "      <td>0</td>\n",
       "      <td>2.725004</td>\n",
       "      <td>4.469289</td>\n",
       "    </tr>\n",
       "  </tbody>\n",
       "</table>\n",
       "<p>157 rows × 3 columns</p>\n",
       "</div>"
      ],
      "text/plain": [
       "     Spectral Class  Temperature (K)  Radius(R/Ro)\n",
       "0                 1         0.381680      0.000672\n",
       "1                 1         0.378445      0.000610\n",
       "2                 1         0.323457      0.000403\n",
       "3                 1         0.348339      0.000633\n",
       "4                 1         0.241225      0.000407\n",
       "..              ...              ...           ...\n",
       "217               0         2.413490      0.023849\n",
       "218               0         2.132331      0.022358\n",
       "230               0         3.003800      5.908954\n",
       "233               0         3.450917      4.951814\n",
       "234               0         2.725004      4.469289\n",
       "\n",
       "[157 rows x 3 columns]"
      ]
     },
     "execution_count": 9,
     "metadata": {},
     "output_type": "execute_result"
    }
   ],
   "source": [
    "cols = {\n",
    "    'y' : 'Spectral Class',\n",
    "    'x_1' : 'Temperature (K)',\n",
    "    'x_2' : 'Radius(R/Ro)'\n",
    "}\n",
    "\n",
    "# reduz a base para as colunas que serão utilizadas\n",
    "data = data[[cols['y'], cols['x_1'], cols['x_2'] ]]\n",
    "\n",
    "# normaliza as colunas numéricas\n",
    "data[[cols['x_1']]] = data[[cols['x_1']]]/data[[cols['x_1']]].mean()\n",
    "data[[cols['x_2']]] = data[[cols['x_2']]]/data[[cols['x_2']]].mean()\n",
    "\n",
    "# remove os dados nulos\n",
    "data = data.dropna()\n",
    "\n",
    "data"
   ]
  },
  {
   "cell_type": "markdown",
   "metadata": {},
   "source": [
    "## Transformando os dados\n",
    "    pd.core.series.Series em np.ndarray"
   ]
  },
  {
   "cell_type": "code",
   "execution_count": 10,
   "metadata": {},
   "outputs": [
    {
     "data": {
      "text/plain": [
       "array([[3.81679728e-01, 6.72370914e-04],\n",
       "       [3.78445154e-01, 6.09879970e-04],\n",
       "       [3.23457397e-01, 4.03422548e-04],\n",
       "       [3.48338735e-01, 6.32819684e-04],\n",
       "       [2.41224574e-01, 4.07377671e-04],\n",
       "       [3.53315002e-01, 4.35063533e-04],\n",
       "       [3.28060444e-01, 5.02300624e-04],\n",
       "       [3.23457397e-01, 3.79691810e-04],\n",
       "       [3.29677731e-01, 4.35063533e-04],\n",
       "       [3.35898066e-01, 5.14165993e-04],\n",
       "       [4.47864088e-01, 2.01711274e-03],\n",
       "       [3.89268536e-01, 1.48752177e-03],\n",
       "       [3.89890570e-01, 7.75204113e-04],\n",
       "       [4.51347475e-01, 1.55436335e-03],\n",
       "       [3.29677731e-01, 5.53717223e-04],\n",
       "       [4.15518348e-01, 9.49229526e-04],\n",
       "       [3.48214328e-01, 6.32819684e-04],\n",
       "       [4.59309503e-01, 1.85890782e-03],\n",
       "       [3.97106158e-01, 7.77972699e-04],\n",
       "       [4.28083424e-01, 1.38824818e-03],\n",
       "       [3.11016728e+00, 3.32230334e-05],\n",
       "       [2.05271040e+00, 5.53717223e-05],\n",
       "       [3.73220073e+00, 2.49172750e-02],\n",
       "       [1.90043661e+00, 2.84768858e-02],\n",
       "       [1.20674490e+00, 1.14303055e-02],\n",
       "       [4.75980000e-01, 7.51473375e-02],\n",
       "       [4.18628515e-01, 9.09678295e-02],\n",
       "       [4.06809880e-01, 3.48050826e-01],\n",
       "       [3.98101411e-01, 6.72370914e-02],\n",
       "       [3.74215327e-01, 9.88780756e-02],\n",
       "       [4.47864088e-01, 1.14698568e-01],\n",
       "       [4.44753920e-01, 1.77980536e-01],\n",
       "       [4.44629514e-01, 3.52005949e-01],\n",
       "       [4.50974255e-01, 3.32230334e-01],\n",
       "       [4.19872582e+00, 1.02833199e-01],\n",
       "       [4.34179352e-01, 6.01178700e+00],\n",
       "       [4.66525091e-01, 4.98345501e+00],\n",
       "       [4.76975253e-01, 4.67891054e+00],\n",
       "       [4.66400685e-01, 6.51804274e+00],\n",
       "       [4.54084422e-01, 5.23658288e+00],\n",
       "       [4.29203084e-01, 5.33546096e+00],\n",
       "       [4.55328489e-01, 6.61692082e+00],\n",
       "       [4.29203084e-01, 5.07837796e+00],\n",
       "       [4.66773905e-01, 3.77714249e+00],\n",
       "       [4.39777653e-01, 6.11462019e+00],\n",
       "       [4.15642755e-01, 2.25442012e-04],\n",
       "       [4.26963764e-01, 7.51473375e-04],\n",
       "       [3.71105159e-01, 3.71781564e-04],\n",
       "       [3.52692969e-01, 3.63080294e-04],\n",
       "       [3.65133638e-01, 4.58794271e-04],\n",
       "       [4.09920047e-01, 5.22076239e-04],\n",
       "       [3.66377705e-01, 3.67826441e-04],\n",
       "       [3.50453649e-01, 3.60311707e-04],\n",
       "       [3.45104161e-01, 4.66704517e-04],\n",
       "       [3.57171610e-01, 4.74614763e-04],\n",
       "       [4.16140381e-01, 1.07974859e-03],\n",
       "       [4.48734935e-01, 1.50294675e-03],\n",
       "       [4.11039707e-01, 7.11922144e-04],\n",
       "       [3.91881077e-01, 1.38429306e-03],\n",
       "       [4.41643753e-01, 1.15094080e-03],\n",
       "       [3.95613277e-01, 1.38429306e-03],\n",
       "       [3.59535337e-01, 9.49229526e-04],\n",
       "       [4.15767161e-01, 1.21422277e-03],\n",
       "       [3.26069937e-01, 3.87602056e-04],\n",
       "       [3.92876330e-01, 6.36774807e-04],\n",
       "       [2.13979509e+00, 5.93268454e-05],\n",
       "       [1.75413434e+00, 3.52005949e-05],\n",
       "       [1.49412436e+00, 3.63871318e-05],\n",
       "       [1.36598547e+00, 3.44095703e-05],\n",
       "       [2.47071688e+00, 5.18121116e-05],\n",
       "       [4.14274281e+00, 4.74614763e-02],\n",
       "       [4.30322744e-01, 5.09815358e+00],\n",
       "       [4.48486121e-01, 4.44555828e+00],\n",
       "       [4.49730188e-01, 6.46662614e+00],\n",
       "       [4.22858343e-01, 5.87731281e+00],\n",
       "       [4.49108155e-01, 6.01969724e+00],\n",
       "       [4.42016973e-01, 5.23658288e+00],\n",
       "       [4.50974255e-01, 3.46468777e+00],\n",
       "       [4.70257292e-01, 5.23658288e+00],\n",
       "       [4.13403434e-01, 3.60707220e-04],\n",
       "       [4.39280026e-01, 3.86020007e-04],\n",
       "       [4.00340732e-01, 4.35063533e-04],\n",
       "       [3.91383450e-01, 3.68617466e-04],\n",
       "       [4.36791892e-01, 4.31108410e-04],\n",
       "       [4.01211579e-01, 4.78569886e-04],\n",
       "       [3.65133638e-01, 3.68617466e-04],\n",
       "       [3.55927543e-01, 3.55565560e-04],\n",
       "       [3.55305510e-01, 3.09290620e-04],\n",
       "       [3.39754673e-01, 3.38558531e-04],\n",
       "       [3.85038709e-01, 1.94592053e-03],\n",
       "       [4.48734935e-01, 1.50294675e-03],\n",
       "       [3.85660742e-01, 1.22608814e-03],\n",
       "       [3.71851599e-01, 1.34474183e-03],\n",
       "       [4.40648500e-01, 2.45217627e-03],\n",
       "       [4.03450899e-01, 2.88723981e-03],\n",
       "       [3.84541082e-01, 9.49229526e-04],\n",
       "       [4.47615274e-01, 2.21486889e-03],\n",
       "       [4.13527841e-01, 1.34474183e-03],\n",
       "       [4.40524093e-01, 1.01251149e-03],\n",
       "       [1.66953779e+00, 3.87997569e-05],\n",
       "       [2.61502865e+00, 4.42973779e-05],\n",
       "       [2.27539838e+00, 3.69408490e-05],\n",
       "       [1.80638515e+00, 3.84437958e-05],\n",
       "       [1.48043962e+00, 3.55170048e-05],\n",
       "       [1.60633919e+00, 3.73759126e-05],\n",
       "       [1.61529648e+00, 3.93930253e-05],\n",
       "       [3.67746179e+00, 2.38098406e-02],\n",
       "       [2.03902567e+00, 2.24650988e-02],\n",
       "       [3.11887574e+00, 2.34143283e-02],\n",
       "       [3.57047203e+00, 2.53127874e-02],\n",
       "       [3.25199090e+00, 2.17136254e-02],\n",
       "       [2.50306262e+00, 2.68157341e-02],\n",
       "       [4.44131887e-01, 5.85358208e+00],\n",
       "       [4.35423419e-01, 5.61627469e+00],\n",
       "       [3.23457397e+00, 6.64065156e+00],\n",
       "       [4.47864088e-01, 4.70659640e+00],\n",
       "       [4.49605781e-01, 6.14230606e+00],\n",
       "       [1.36847360e+00, 7.03616386e+00],\n",
       "       [1.50532096e+00, 2.80378671e+00],\n",
       "       [3.04671986e+00, 4.48708707e+00],\n",
       "       [3.52195342e-01, 3.61893757e-04],\n",
       "       [3.62521098e-01, 4.58794271e-04],\n",
       "       [4.25346477e-01, 4.98345501e-04],\n",
       "       [4.00340732e-01, 3.90370642e-04],\n",
       "       [4.29576304e-01, 3.05731010e-04],\n",
       "       [3.59410930e-01, 3.84833470e-04],\n",
       "       [3.69239059e-01, 4.70659640e-04],\n",
       "       [4.33432912e-01, 3.94721278e-04],\n",
       "       [3.45601788e-01, 4.42973779e-04],\n",
       "       [4.38284772e-01, 5.10210870e-04],\n",
       "       [4.30695964e-01, 5.85358208e-04],\n",
       "       [4.05192593e-01, 1.81935659e-03],\n",
       "       [3.72473633e-01, 1.10743445e-03],\n",
       "       [3.99594292e-01, 1.49503650e-03],\n",
       "       [4.38284772e-01, 1.26168424e-03],\n",
       "       [4.47615274e-01, 2.64993243e-03],\n",
       "       [3.90885823e-01, 1.02042174e-03],\n",
       "       [4.34925792e-01, 1.32892134e-03],\n",
       "       [4.13527841e-01, 1.86286294e-03],\n",
       "       [4.30820371e-01, 2.66970804e-03],\n",
       "       [2.08878834e+00, 4.78569886e-05],\n",
       "       [1.95069692e+00, 4.50884025e-05],\n",
       "       [1.86386104e+00, 4.46928902e-05],\n",
       "       [1.65958526e+00, 4.58794271e-05],\n",
       "       [2.28161871e+00, 4.90435255e-05],\n",
       "       [2.47818129e+00, 5.61627469e-05],\n",
       "       [2.98824872e+00, 5.02300624e-05],\n",
       "       [2.87279931e+00, 4.11332794e-05],\n",
       "       [2.22936790e+00, 4.19243041e-05],\n",
       "       [2.40851354e+00, 3.94721278e-05],\n",
       "       [2.78048954e+00, 2.51545824e-02],\n",
       "       [2.73844008e+00, 2.62620169e-02],\n",
       "       [2.41348981e+00, 2.38493918e-02],\n",
       "       [2.13233068e+00, 2.23583105e-02],\n",
       "       [3.00379955e+00, 5.90895380e+00],\n",
       "       [3.45091720e+00, 4.95181403e+00],\n",
       "       [2.72500416e+00, 4.46928902e+00]])"
      ]
     },
     "execution_count": 10,
     "metadata": {},
     "output_type": "execute_result"
    }
   ],
   "source": [
    "y = data[cols['y']].to_numpy(dtype ='int')\n",
    "y = y[:,np.newaxis] #transforma y em um vetor coluna\n",
    "\n",
    "X_1 = data[cols['x_1']].to_numpy(dtype ='float')\n",
    "X_1 = np.vstack((X_1)) #transforma x_1 em vec coluna\n",
    "\n",
    "X_2 = data[cols['x_2']].to_numpy(dtype ='float')\n",
    "X_2 = np.vstack((X_2)) #transforma x_2 em vec coluna\n",
    "\n",
    "X = np.hstack((X_1,X_2))\n",
    "X # final result"
   ]
  },
  {
   "cell_type": "code",
   "execution_count": 11,
   "metadata": {
    "scrolled": true
   },
   "outputs": [
    {
     "data": {
      "text/plain": [
       "Text(0, 0.5, 'Radius(R/Ro)')"
      ]
     },
     "execution_count": 11,
     "metadata": {},
     "output_type": "execute_result"
    },
    {
     "data": {
      "image/png": "[encoded data removed]",
      "text/plain": [
       "<Figure size 432x288 with 1 Axes>"
      ]
     },
     "metadata": {
      "needs_background": "light"
     },
     "output_type": "display_data"
    }
   ],
   "source": [
    "sns.scatterplot(x = X[:,0], y = X[:,1], hue = y.reshape(-1));\n",
    "\n",
    "# legendas\n",
    "plt.xlabel(cols['x_1'].replace(\"_\", \" \").title())\n",
    "plt.ylabel(cols['x_2'].replace(\"_\", \" \").title())"
   ]
  },
  {
   "cell_type": "code",
   "execution_count": 12,
   "metadata": {
    "scrolled": true
   },
   "outputs": [
    {
     "name": "stdout",
     "output_type": "stream",
     "text": [
      "Initial Cost is: [[0.69312718]] \n",
      "\n",
      "[[ 10.17531839]\n",
      " [-10.32019082]\n",
      " [  0.0968448 ]]\n"
     ]
    },
    {
     "data": {
      "image/png": "[encoded data removed]",
      "text/plain": [
       "<Figure size 432x288 with 1 Axes>"
      ]
     },
     "metadata": {
      "needs_background": "light"
     },
     "output_type": "display_data"
    }
   ],
   "source": [
    "\n",
    "m = len(y)\n",
    "\n",
    "X_new = np.hstack((np.ones((m,1)),X))\n",
    "n = np.size(X_new,1)\n",
    "params = np.zeros((n,1))\n",
    "\n",
    "iterations = 3000\n",
    "learning_rate = 1\n",
    "\n",
    "initial_cost = compute_cost(X_new, y, params)\n",
    "print(\"Initial Cost is: {} \\n\".format(initial_cost))\n",
    "\n",
    "(cost_history, params_optimal) = gradient_descent(X_new, y, params, learning_rate, iterations)\n",
    "\n",
    "y_pred = predict(X_new, params_optimal)\n",
    "score = float(sum(y_pred == y))/ float(len(y))\n",
    "\n",
    "print(params_optimal)\n",
    "\n",
    "plt.figure()\n",
    "sns.set_style('white')\n",
    "plt.plot(range(len(cost_history)), cost_history, 'r')\n",
    "plt.title(\"Convergence Graph of Cost Function\")\n",
    "plt.xlabel(\"Number of Iterations\")\n",
    "plt.ylabel(\"Cost\")\n",
    "plt.show()"
   ]
  },
  {
   "cell_type": "code",
   "execution_count": 13,
   "metadata": {},
   "outputs": [
    {
     "name": "stdout",
     "output_type": "stream",
     "text": [
      "1.0\n"
     ]
    }
   ],
   "source": [
    "\n",
    "y_pred = predict(X_new, params_optimal)\n",
    "score = float(sum(y_pred == y))/ float(len(y))\n",
    "\n",
    "print(score)"
   ]
  },
  {
   "cell_type": "code",
   "execution_count": 14,
   "metadata": {},
   "outputs": [
    {
     "data": {
      "text/plain": [
       "Text(0, 0.5, 'Radius(R/Ro)')"
      ]
     },
     "execution_count": 14,
     "metadata": {},
     "output_type": "execute_result"
    },
    {
     "data": {
      "image/png": "[encoded data removed]",
      "text/plain": [
       "<Figure size 432x288 with 1 Axes>"
      ]
     },
     "metadata": {},
     "output_type": "display_data"
    }
   ],
   "source": [
    "slope = -(params_optimal[1] / params_optimal[2])\n",
    "intercept = -(params_optimal[0] / params_optimal[2])\n",
    "\n",
    "sns.set_style('white')\n",
    "sns.scatterplot(x = X_new[:,1], y= X_new[:,2], hue=y.reshape(-1));\n",
    "\n",
    "ax = plt.gca()\n",
    "ax.autoscale(False)\n",
    "x_vals = np.array(ax.get_xlim())\n",
    "y_vals = intercept + (slope * x_vals)\n",
    "plt.plot(x_vals, y_vals, c=\"k\");\n",
    "\n",
    "# legendas\n",
    "plt.xlabel(cols['x_1'].replace(\"_\", \" \").title())\n",
    "plt.ylabel(cols['x_2'].replace(\"_\", \" \").title())"
   ]
  }
 ],
 "metadata": {
  "kernelspec": {
   "display_name": "Python 3",
   "language": "python",
   "name": "python3"
  },
  "language_info": {
   "codemirror_mode": {
    "name": "ipython",
    "version": 3
   },
   "file_extension": ".py",
   "mimetype": "text/x-python",
   "name": "python",
   "nbconvert_exporter": "python",
   "pygments_lexer": "ipython3",
   "version": "3.8.8"
  }
 },
 "nbformat": 4,
 "nbformat_minor": 4
}
