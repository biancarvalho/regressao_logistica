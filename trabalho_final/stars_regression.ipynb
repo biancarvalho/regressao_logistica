{
 "cells": [
  {
   "cell_type": "markdown",
   "metadata": {},
   "source": [
    "# Trabalho Final - Algebra Linear"
   ]
  },
  {
   "cell_type": "code",
   "execution_count": 1,
   "metadata": {},
   "outputs": [],
   "source": [
    "import numpy as np\n",
    "import pandas as pd\n",
    "import matplotlib.pyplot as plt\n",
    "from sklearn.datasets import make_classification\n",
    "import seaborn as sns"
   ]
  },
  {
   "cell_type": "markdown",
   "metadata": {},
   "source": [
    "## Inicialmente, importando a base de dados e fazendo pequenas análises."
   ]
  },
  {
   "cell_type": "code",
   "execution_count": 2,
   "metadata": {},
   "outputs": [
    {
     "data": {
      "text/html": [
       "<div>\n",
       "<style scoped>\n",
       "    .dataframe tbody tr th:only-of-type {\n",
       "        vertical-align: middle;\n",
       "    }\n",
       "\n",
       "    .dataframe tbody tr th {\n",
       "        vertical-align: top;\n",
       "    }\n",
       "\n",
       "    .dataframe thead th {\n",
       "        text-align: right;\n",
       "    }\n",
       "</style>\n",
       "<table border=\"1\" class=\"dataframe\">\n",
       "  <thead>\n",
       "    <tr style=\"text-align: right;\">\n",
       "      <th></th>\n",
       "      <th>Temperature (K)</th>\n",
       "      <th>Luminosity(L/Lo)</th>\n",
       "      <th>Radius(R/Ro)</th>\n",
       "      <th>Absolute magnitude(Mv)</th>\n",
       "      <th>Star type</th>\n",
       "      <th>Star color</th>\n",
       "      <th>Spectral Class</th>\n",
       "    </tr>\n",
       "  </thead>\n",
       "  <tbody>\n",
       "    <tr>\n",
       "      <th>191</th>\n",
       "      <td>3257</td>\n",
       "      <td>0.0024</td>\n",
       "      <td>0.460</td>\n",
       "      <td>10.730</td>\n",
       "      <td>1</td>\n",
       "      <td>Red</td>\n",
       "      <td>1</td>\n",
       "    </tr>\n",
       "    <tr>\n",
       "      <th>73</th>\n",
       "      <td>3150</td>\n",
       "      <td>0.0088</td>\n",
       "      <td>0.350</td>\n",
       "      <td>11.940</td>\n",
       "      <td>1</td>\n",
       "      <td>Red</td>\n",
       "      <td>1</td>\n",
       "    </tr>\n",
       "    <tr>\n",
       "      <th>193</th>\n",
       "      <td>3212</td>\n",
       "      <td>0.0016</td>\n",
       "      <td>0.378</td>\n",
       "      <td>12.854</td>\n",
       "      <td>1</td>\n",
       "      <td>Red</td>\n",
       "      <td>1</td>\n",
       "    </tr>\n",
       "    <tr>\n",
       "      <th>15</th>\n",
       "      <td>3340</td>\n",
       "      <td>0.0038</td>\n",
       "      <td>0.240</td>\n",
       "      <td>13.070</td>\n",
       "      <td>1</td>\n",
       "      <td>Red</td>\n",
       "      <td>1</td>\n",
       "    </tr>\n",
       "    <tr>\n",
       "      <th>119</th>\n",
       "      <td>3780</td>\n",
       "      <td>200000.0000</td>\n",
       "      <td>1324.000</td>\n",
       "      <td>-10.700</td>\n",
       "      <td>5</td>\n",
       "      <td>Red</td>\n",
       "      <td>1</td>\n",
       "    </tr>\n",
       "  </tbody>\n",
       "</table>\n",
       "</div>"
      ],
      "text/plain": [
       "     Temperature (K)  Luminosity(L/Lo)  Radius(R/Ro)  Absolute magnitude(Mv)  \\\n",
       "191             3257            0.0024         0.460                  10.730   \n",
       "73              3150            0.0088         0.350                  11.940   \n",
       "193             3212            0.0016         0.378                  12.854   \n",
       "15              3340            0.0038         0.240                  13.070   \n",
       "119             3780       200000.0000      1324.000                 -10.700   \n",
       "\n",
       "     Star type Star color  Spectral Class  \n",
       "191          1        Red               1  \n",
       "73           1        Red               1  \n",
       "193          1        Red               1  \n",
       "15           1        Red               1  \n",
       "119          5        Red               1  "
      ]
     },
     "execution_count": 2,
     "metadata": {},
     "output_type": "execute_result"
    }
   ],
   "source": [
    "data = pd.read_csv('../trabalho_final/stars_data.csv')\n",
    "\n",
    "# seleciona apenas os tipos de estrela que vamos abordar: anãs vermelhas e gigantes azuis, respectivamente\n",
    "data = data[(data['Spectral Class'] == 'M') | (data['Spectral Class'] == 'K')]\n",
    "data['Spectral Class'].replace(to_replace='M', value=1, inplace=True)\n",
    "data['Spectral Class'].replace(to_replace='K', value=0, inplace=True)\n",
    "\n",
    "data.sample(5)"
   ]
  },
  {
   "cell_type": "markdown",
   "metadata": {},
   "source": [
    "## Selecionando cols, normalizando e removendo NaNs\n",
    "    papel importante a ser feito"
   ]
  },
  {
   "cell_type": "code",
   "execution_count": 3,
   "metadata": {
    "scrolled": true
   },
   "outputs": [
    {
     "data": {
      "text/html": [
       "<div>\n",
       "<style scoped>\n",
       "    .dataframe tbody tr th:only-of-type {\n",
       "        vertical-align: middle;\n",
       "    }\n",
       "\n",
       "    .dataframe tbody tr th {\n",
       "        vertical-align: top;\n",
       "    }\n",
       "\n",
       "    .dataframe thead th {\n",
       "        text-align: right;\n",
       "    }\n",
       "</style>\n",
       "<table border=\"1\" class=\"dataframe\">\n",
       "  <thead>\n",
       "    <tr style=\"text-align: right;\">\n",
       "      <th></th>\n",
       "      <th>Spectral Class</th>\n",
       "      <th>Temperature (K)</th>\n",
       "      <th>Radius(R/Ro)</th>\n",
       "    </tr>\n",
       "  </thead>\n",
       "  <tbody>\n",
       "    <tr>\n",
       "      <th>18</th>\n",
       "      <td>1</td>\n",
       "      <td>0.961146</td>\n",
       "      <td>0.000692</td>\n",
       "    </tr>\n",
       "    <tr>\n",
       "      <th>19</th>\n",
       "      <td>1</td>\n",
       "      <td>1.036123</td>\n",
       "      <td>0.001235</td>\n",
       "    </tr>\n",
       "    <tr>\n",
       "      <th>47</th>\n",
       "      <td>1</td>\n",
       "      <td>1.076171</td>\n",
       "      <td>0.313126</td>\n",
       "    </tr>\n",
       "    <tr>\n",
       "      <th>129</th>\n",
       "      <td>1</td>\n",
       "      <td>0.822334</td>\n",
       "      <td>0.000301</td>\n",
       "    </tr>\n",
       "    <tr>\n",
       "      <th>198</th>\n",
       "      <td>1</td>\n",
       "      <td>1.000893</td>\n",
       "      <td>0.001657</td>\n",
       "    </tr>\n",
       "  </tbody>\n",
       "</table>\n",
       "</div>"
      ],
      "text/plain": [
       "     Spectral Class  Temperature (K)  Radius(R/Ro)\n",
       "18                1         0.961146      0.000692\n",
       "19                1         1.036123      0.001235\n",
       "47                1         1.076171      0.313126\n",
       "129               1         0.822334      0.000301\n",
       "198               1         1.000893      0.001657"
      ]
     },
     "execution_count": 3,
     "metadata": {},
     "output_type": "execute_result"
    }
   ],
   "source": [
    "cols = {\n",
    "    'y' : 'Spectral Class',\n",
    "    'x_1' : 'Temperature (K)',\n",
    "    'x_2' : 'Radius(R/Ro)'\n",
    "}\n",
    "\n",
    "# reduz a base para as colunas que serão utilizadas\n",
    "data = data[[cols['y'], cols['x_1'], cols['x_2'] ]]\n",
    "\n",
    "# normaliza as colunas numéricas\n",
    "data[[cols['x_1']]] = data[[cols['x_1']]]/data[[cols['x_1']]].mean()\n",
    "data[[cols['x_2']]] = data[[cols['x_2']]]/data[[cols['x_2']]].mean()\n",
    "\n",
    "# remove os dados nulos\n",
    "data = data.dropna()\n",
    "\n",
    "data.sample(5)"
   ]
  },
  {
   "cell_type": "markdown",
   "metadata": {},
   "source": [
    "## Criando as funções para a Regressão Logística"
   ]
  },
  {
   "cell_type": "markdown",
   "metadata": {},
   "source": [
    "### Função sigmóide (logit)"
   ]
  },
  {
   "cell_type": "code",
   "execution_count": 4,
   "metadata": {},
   "outputs": [],
   "source": [
    "def sigmoid(x):\n",
    "    return 1 / (1 + np.exp(-x))"
   ]
  },
  {
   "cell_type": "markdown",
   "metadata": {},
   "source": [
    "### Função de custo"
   ]
  },
  {
   "cell_type": "code",
   "execution_count": 5,
   "metadata": {},
   "outputs": [],
   "source": [
    "def compute_cost(X, y, theta):\n",
    "    m = len(y)\n",
    "    h = sigmoid(X @ theta)\n",
    "    epsilon = 0.00001\n",
    "    cost = (1/m)*(((-y).T @ np.log(h + epsilon))-((1-y).T @ np.log(1-h + epsilon)))\n",
    "    return cost"
   ]
  },
  {
   "cell_type": "markdown",
   "metadata": {},
   "source": [
    "### Gradiente descendente"
   ]
  },
  {
   "cell_type": "code",
   "execution_count": 6,
   "metadata": {},
   "outputs": [],
   "source": [
    "def gradient_descent(X, y, params, learning_rate, iterations):\n",
    "    m = len(y)\n",
    "    cost_history = np.zeros((iterations,1))\n",
    "\n",
    "    for i in range(iterations):\n",
    "        params = params - (learning_rate/m) * (X.T @ (sigmoid(X @ params) - y)) \n",
    "        cost_history[i] = compute_cost(X, y, params)\n",
    "\n",
    "    return (cost_history, params)"
   ]
  },
  {
   "cell_type": "markdown",
   "metadata": {},
   "source": [
    "### Função de predição\n",
    "    Maior que 0.5 é arredondada p/ 1, menor p/ 0."
   ]
  },
  {
   "cell_type": "code",
   "execution_count": 7,
   "metadata": {},
   "outputs": [],
   "source": [
    "def predict(X, params):\n",
    "    return np.round(sigmoid(X @ params))"
   ]
  },
  {
   "cell_type": "markdown",
   "metadata": {},
   "source": [
    "## Transformando os dados\n",
    "    pd.core.series.Series em np.ndarray"
   ]
  },
  {
   "cell_type": "code",
   "execution_count": 8,
   "metadata": {},
   "outputs": [
    {
     "data": {
      "text/plain": [
       "array([[9.23808617e-01, 5.98105685e-04],\n",
       "       [9.15979730e-01, 5.42517039e-04],\n",
       "       [7.82888658e-01, 3.58863411e-04],\n",
       "       [8.43110863e-01, 5.62922997e-04],\n",
       "       [5.83854273e-01, 3.62381680e-04]])"
      ]
     },
     "execution_count": 8,
     "metadata": {},
     "output_type": "execute_result"
    }
   ],
   "source": [
    "y = data[cols['y']].to_numpy(dtype ='int')\n",
    "y = y[:,np.newaxis] #transforma y em um vetor coluna\n",
    "\n",
    "X_1 = data[cols['x_1']].to_numpy(dtype ='float')\n",
    "X_1 = np.vstack((X_1)) #transforma x_1 em vec coluna\n",
    "\n",
    "X_2 = data[cols['x_2']].to_numpy(dtype ='float')\n",
    "X_2 = np.vstack((X_2)) #transforma x_2 em vec coluna\n",
    "\n",
    "X = np.hstack((X_1,X_2))\n",
    "\n",
    "X[:5] # equivalente a head(5)"
   ]
  },
  {
   "cell_type": "code",
   "execution_count": 9,
   "metadata": {
    "scrolled": true
   },
   "outputs": [
    {
     "data": {
      "text/plain": [
       "Text(0, 0.5, 'Radius(R/Ro)')"
      ]
     },
     "execution_count": 9,
     "metadata": {},
     "output_type": "execute_result"
    },
    {
     "data": {
      "image/png": "[encoded data removed]",
      "text/plain": [
       "<Figure size 432x288 with 1 Axes>"
      ]
     },
     "metadata": {
      "needs_background": "light"
     },
     "output_type": "display_data"
    }
   ],
   "source": [
    "# plota os nossos dados\n",
    "sns.scatterplot(x = X[:,0], y = X[:,1], hue = y.reshape(-1));\n",
    "\n",
    "# legendas\n",
    "plt.xlabel(cols['x_1'].replace(\"_\", \" \").title())\n",
    "plt.ylabel(cols['x_2'].replace(\"_\", \" \").title())"
   ]
  },
  {
   "cell_type": "code",
   "execution_count": 52,
   "metadata": {
    "scrolled": false
   },
   "outputs": [
    {
     "data": {
      "image/png": "[encoded data removed]",
      "text/plain": [
       "<Figure size 432x288 with 1 Axes>"
      ]
     },
     "metadata": {},
     "output_type": "display_data"
    }
   ],
   "source": [
    "\"\"\"Plota o gráfico de custo por iteration\n",
    "\n",
    "Interessante para que possamos observá-lo e verificar se a base em\n",
    "questão exige mais ou menos iterações para dar um resultado eficiente.\n",
    "O gráfico ideal deve ser uma curva convexa com valores próximos de 0 a\n",
    "medida que o número de iterations aumenta.\"\"\"\n",
    "m = len(y)\n",
    "\n",
    "X_new = np.hstack((np.ones((m,1)),X))\n",
    "n = np.size(X_new,1)\n",
    "params = np.zeros((n,1))\n",
    "\n",
    "learning_rate = 3 # quanto mais baixa, mais refinada a pesquisa (exige mais iterations)\n",
    "iterations = 8000 # quanto mais alta, maior a precisão\n",
    "\n",
    "initial_cost = compute_cost(X_new, y, params)\n",
    "\n",
    "(cost_history, params_optimal) = gradient_descent(X_new, y, params, learning_rate, iterations)\n",
    "\n",
    "y_pred = predict(X_new, params_optimal)\n",
    "score = float(sum(y_pred == y))/ float(len(y))\n",
    "\n",
    "plt.figure()\n",
    "sns.set_style('white')\n",
    "plt.plot(range(len(cost_history)), cost_history, 'r')\n",
    "plt.title(\"Convergence Graph of Cost Function\")\n",
    "plt.xlabel(\"Number of Iterations\")\n",
    "plt.ylabel(\"Cost\")\n",
    "plt.show()"
   ]
  },
  {
   "cell_type": "code",
   "execution_count": 53,
   "metadata": {},
   "outputs": [
    {
     "name": "stdout",
     "output_type": "stream",
     "text": [
      "0.9914529914529915\n"
     ]
    }
   ],
   "source": [
    "# avalia a precisão dos resultados\n",
    "\n",
    "y_pred = predict(X_new, params_optimal)\n",
    "score = float(sum(y_pred == y))/ float(len(y))\n",
    "print(score)"
   ]
  },
  {
   "cell_type": "code",
   "execution_count": 54,
   "metadata": {},
   "outputs": [
    {
     "data": {
      "text/plain": [
       "Text(0, 0.5, 'Radius(R/Ro)')"
      ]
     },
     "execution_count": 54,
     "metadata": {},
     "output_type": "execute_result"
    },
    {
     "data": {
      "image/png": "[encoded data removed]",
      "text/plain": [
       "<Figure size 432x288 with 1 Axes>"
      ]
     },
     "metadata": {},
     "output_type": "display_data"
    }
   ],
   "source": [
    "# cria um gráfico que exibe visualmente como a divisão está sendo dada\n",
    "\n",
    "slope = -(params_optimal[1] / params_optimal[2])\n",
    "intercept = -(params_optimal[0] / params_optimal[2])\n",
    "\n",
    "sns.set_style('white')\n",
    "sns.scatterplot(x = X_new[:,1], y= X_new[:,2], hue=y.reshape(-1));\n",
    "\n",
    "ax = plt.gca()\n",
    "ax.autoscale(False)\n",
    "x_vals = np.array(ax.get_xlim())\n",
    "y_vals = intercept + (slope * x_vals)\n",
    "plt.plot(x_vals, y_vals, c=\"k\");\n",
    "\n",
    "# legendas\n",
    "plt.xlabel(cols['x_1'].replace(\"_\", \" \").title())\n",
    "plt.ylabel(cols['x_2'].replace(\"_\", \" \").title())"
   ]
  }
 ],
 "metadata": {
  "kernelspec": {
   "display_name": "Python 3",
   "language": "python",
   "name": "python3"
  },
  "language_info": {
   "codemirror_mode": {
    "name": "ipython",
    "version": 3
   },
   "file_extension": ".py",
   "mimetype": "text/x-python",
   "name": "python",
   "nbconvert_exporter": "python",
   "pygments_lexer": "ipython3",
   "version": "3.8.8"
  }
 },
 "nbformat": 4,
 "nbformat_minor": 4
}
