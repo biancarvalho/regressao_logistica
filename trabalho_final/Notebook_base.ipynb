{
 "cells": [
  {
   "cell_type": "markdown",
   "id": "c4f9779a",
   "metadata": {},
   "source": [
    "# Notebook Base de Regressão Logística"
   ]
  },
  {
   "cell_type": "code",
   "execution_count": 1,
   "id": "cc8e6d66",
   "metadata": {},
   "outputs": [],
   "source": [
    "import numpy as np\n",
    "import pandas as pd \n",
    "\n",
    "import seaborn as sns\n",
    "import matplotlib.pyplot as plt"
   ]
  },
  {
   "cell_type": "markdown",
   "id": "72266408",
   "metadata": {},
   "source": [
    "## Classe de regressão logística\n",
    "*Faz o trabalho pesado em regressão logística.*"
   ]
  },
  {
   "cell_type": "code",
   "execution_count": 34,
   "id": "64e347e4",
   "metadata": {},
   "outputs": [],
   "source": [
    "class LogisticRegression:\n",
    "    def __init__(self, learning_rate=0.001, n_iters=1000):\n",
    "        self.lr = learning_rate\n",
    "        self.n_iters = n_iters\n",
    "        self.weights = None\n",
    "        self.bias = None\n",
    "\n",
    "    def fit(self, X, y):\n",
    "        n_samples, n_features = X.shape\n",
    "\n",
    "        # init parameters\n",
    "        self.weights = np.zeros(n_features)\n",
    "        self.bias = 0\n",
    "\n",
    "        # gradient descent\n",
    "        for _ in range(self.n_iters):\n",
    "            # approximate y with linear combination of weights and x, plus bias\n",
    "            linear_model = np.dot(X, self.weights) + self.bias\n",
    "            # apply sigmoid function\n",
    "            y_predicted = self._sigmoid(linear_model)\n",
    "\n",
    "            # compute gradients\n",
    "            dw = (1 / n_samples) * np.dot(X.T, (y_predicted - y))\n",
    "            db = (1 / n_samples) * np.sum(y_predicted - y)\n",
    "            # update parameters\n",
    "            self.weights -= self.lr * dw\n",
    "            self.bias -= self.lr * db\n",
    "\n",
    "    def predict(self, X):\n",
    "        linear_model = np.dot(X, self.weights) + self.bias\n",
    "        y_predicted = self._sigmoid(linear_model)\n",
    "        y_predicted_cls = [1 if i > 0.5 else 0 for i in y_predicted]\n",
    "        \n",
    "        return np.array(y_predicted_cls)\n",
    "    \n",
    "    def plot(self, X, y, legend):\n",
    "        # only plots if X refers to exactly 2 variables\n",
    "        if X.shape[1] != 2:\n",
    "            raise ValueError(\"Can plot only for X's that refers to exactly 2 vars.\")\n",
    "        \n",
    "        slope = -(self.weights[0]/self.weights[1])\n",
    "        intercept = -(self.bias/self.weights[1])\n",
    "        predictions = self.predict(X)\n",
    "\n",
    "        sns.set_style('white')\n",
    "        sns.scatterplot(x = X[:,0], y= X[:,1], hue=y.reshape(-1), style=predictions.reshape(-1));\n",
    "\n",
    "        ax = plt.gca()\n",
    "        ax.autoscale(False)\n",
    "        x_vals = np.array(ax.get_xlim())\n",
    "        y_vals = intercept + (slope * x_vals)\n",
    "        plt.plot(x_vals, y_vals, c=\"k\");\n",
    "        \n",
    "        plt.xlabel(legend[0])\n",
    "        plt.ylabel(legend[1])\n",
    "\n",
    "    def _sigmoid(self, x):\n",
    "        return 1 / (1 + np.exp(-x))"
   ]
  },
  {
   "cell_type": "markdown",
   "id": "1e38f4c3",
   "metadata": {},
   "source": [
    "## Importando a base\n",
    "*Importa a base, seleciona as variáveis, limpa, normaliza.*\n"
   ]
  },
  {
   "cell_type": "code",
   "execution_count": 77,
   "id": "f89fe7ee",
   "metadata": {
    "scrolled": true
   },
   "outputs": [
    {
     "data": {
      "text/html": [
       "<div>\n",
       "<style scoped>\n",
       "    .dataframe tbody tr th:only-of-type {\n",
       "        vertical-align: middle;\n",
       "    }\n",
       "\n",
       "    .dataframe tbody tr th {\n",
       "        vertical-align: top;\n",
       "    }\n",
       "\n",
       "    .dataframe thead th {\n",
       "        text-align: right;\n",
       "    }\n",
       "</style>\n",
       "<table border=\"1\" class=\"dataframe\">\n",
       "  <thead>\n",
       "    <tr style=\"text-align: right;\">\n",
       "      <th></th>\n",
       "      <th>Temperature (K)</th>\n",
       "      <th>Luminosity(L/Lo)</th>\n",
       "      <th>Radius(R/Ro)</th>\n",
       "      <th>Absolute magnitude(Mv)</th>\n",
       "      <th>Star type</th>\n",
       "      <th>Star color</th>\n",
       "      <th>Spectral Class</th>\n",
       "    </tr>\n",
       "  </thead>\n",
       "  <tbody>\n",
       "    <tr>\n",
       "      <th>105</th>\n",
       "      <td>14245</td>\n",
       "      <td>231000.000000</td>\n",
       "      <td>42.0000</td>\n",
       "      <td>-6.120</td>\n",
       "      <td>4</td>\n",
       "      <td>Blue</td>\n",
       "      <td>O</td>\n",
       "    </tr>\n",
       "    <tr>\n",
       "      <th>195</th>\n",
       "      <td>3598</td>\n",
       "      <td>0.002700</td>\n",
       "      <td>0.6700</td>\n",
       "      <td>13.667</td>\n",
       "      <td>1</td>\n",
       "      <td>Red</td>\n",
       "      <td>M</td>\n",
       "    </tr>\n",
       "    <tr>\n",
       "      <th>70</th>\n",
       "      <td>3345</td>\n",
       "      <td>0.021000</td>\n",
       "      <td>0.2730</td>\n",
       "      <td>12.300</td>\n",
       "      <td>1</td>\n",
       "      <td>Red</td>\n",
       "      <td>M</td>\n",
       "    </tr>\n",
       "    <tr>\n",
       "      <th>132</th>\n",
       "      <td>3100</td>\n",
       "      <td>0.008000</td>\n",
       "      <td>0.3100</td>\n",
       "      <td>11.170</td>\n",
       "      <td>1</td>\n",
       "      <td>Red</td>\n",
       "      <td>M</td>\n",
       "    </tr>\n",
       "    <tr>\n",
       "      <th>184</th>\n",
       "      <td>3453</td>\n",
       "      <td>0.000621</td>\n",
       "      <td>0.0773</td>\n",
       "      <td>17.080</td>\n",
       "      <td>0</td>\n",
       "      <td>Red</td>\n",
       "      <td>M</td>\n",
       "    </tr>\n",
       "  </tbody>\n",
       "</table>\n",
       "</div>"
      ],
      "text/plain": [
       "     Temperature (K)  Luminosity(L/Lo)  Radius(R/Ro)  Absolute magnitude(Mv)  \\\n",
       "105            14245     231000.000000       42.0000                  -6.120   \n",
       "195             3598          0.002700        0.6700                  13.667   \n",
       "70              3345          0.021000        0.2730                  12.300   \n",
       "132             3100          0.008000        0.3100                  11.170   \n",
       "184             3453          0.000621        0.0773                  17.080   \n",
       "\n",
       "     Star type Star color Spectral Class  \n",
       "105          4       Blue              O  \n",
       "195          1        Red              M  \n",
       "70           1        Red              M  \n",
       "132          1        Red              M  \n",
       "184          0        Red              M  "
      ]
     },
     "execution_count": 77,
     "metadata": {},
     "output_type": "execute_result"
    }
   ],
   "source": [
    "df = pd.read_csv(\"stars_data.csv\")\n",
    "\n",
    "df.sample(5)"
   ]
  },
  {
   "cell_type": "code",
   "execution_count": 78,
   "id": "02ca36bb",
   "metadata": {},
   "outputs": [
    {
     "data": {
      "text/html": [
       "<div>\n",
       "<style scoped>\n",
       "    .dataframe tbody tr th:only-of-type {\n",
       "        vertical-align: middle;\n",
       "    }\n",
       "\n",
       "    .dataframe tbody tr th {\n",
       "        vertical-align: top;\n",
       "    }\n",
       "\n",
       "    .dataframe thead th {\n",
       "        text-align: right;\n",
       "    }\n",
       "</style>\n",
       "<table border=\"1\" class=\"dataframe\">\n",
       "  <thead>\n",
       "    <tr style=\"text-align: right;\">\n",
       "      <th></th>\n",
       "      <th>Temperature (K)</th>\n",
       "      <th>Radius(R/Ro)</th>\n",
       "      <th>Luminosity(L/Lo)</th>\n",
       "      <th>Absolute magnitude(Mv)</th>\n",
       "      <th>Spectral Class</th>\n",
       "    </tr>\n",
       "  </thead>\n",
       "  <tbody>\n",
       "    <tr>\n",
       "      <th>209</th>\n",
       "      <td>2.408514</td>\n",
       "      <td>0.000039</td>\n",
       "      <td>1.884437e-08</td>\n",
       "      <td>1.658387</td>\n",
       "      <td>0</td>\n",
       "    </tr>\n",
       "    <tr>\n",
       "      <th>7</th>\n",
       "      <td>0.323457</td>\n",
       "      <td>0.000380</td>\n",
       "      <td>6.030198e-09</td>\n",
       "      <td>2.483299</td>\n",
       "      <td>1</td>\n",
       "    </tr>\n",
       "    <tr>\n",
       "      <th>170</th>\n",
       "      <td>0.444132</td>\n",
       "      <td>5.853582</td>\n",
       "      <td>4.824158e+00</td>\n",
       "      <td>-1.081805</td>\n",
       "      <td>1</td>\n",
       "    </tr>\n",
       "    <tr>\n",
       "      <th>63</th>\n",
       "      <td>0.352693</td>\n",
       "      <td>0.000363</td>\n",
       "      <td>5.125668e-09</td>\n",
       "      <td>2.420503</td>\n",
       "      <td>1</td>\n",
       "    </tr>\n",
       "    <tr>\n",
       "      <th>111</th>\n",
       "      <td>0.448486</td>\n",
       "      <td>4.445558</td>\n",
       "      <td>1.899512e+00</td>\n",
       "      <td>-1.542785</td>\n",
       "      <td>1</td>\n",
       "    </tr>\n",
       "  </tbody>\n",
       "</table>\n",
       "</div>"
      ],
      "text/plain": [
       "     Temperature (K)  Radius(R/Ro)  Luminosity(L/Lo)  Absolute magnitude(Mv)  \\\n",
       "209         2.408514      0.000039      1.884437e-08                1.658387   \n",
       "7           0.323457      0.000380      6.030198e-09                2.483299   \n",
       "170         0.444132      5.853582      4.824158e+00               -1.081805   \n",
       "63          0.352693      0.000363      5.125668e-09                2.420503   \n",
       "111         0.448486      4.445558      1.899512e+00               -1.542785   \n",
       "\n",
       "     Spectral Class  \n",
       "209               0  \n",
       "7                 1  \n",
       "170               1  \n",
       "63                1  \n",
       "111               1  "
      ]
     },
     "execution_count": 78,
     "metadata": {},
     "output_type": "execute_result"
    }
   ],
   "source": [
    "# Específico pro exemplo de estrelas: transforma as várias categorias em só duas\n",
    "df = df[(df['Spectral Class'] == 'M') | (df['Spectral Class'] == 'B')]\n",
    "df['Spectral Class'].replace(to_replace='M', value=1, inplace=True)\n",
    "df['Spectral Class'].replace(to_replace='B', value=0, inplace=True)\n",
    "\n",
    "# ======================================================== #\n",
    "# =================== Seleção de Dados =================== #\n",
    "# ======================================================== #\n",
    "dados = {\n",
    "    'X' : ['Temperature (K)', 'Radius(R/Ro)', 'Luminosity(L/Lo)', 'Absolute magnitude(Mv)'],\n",
    "    'y' : 'Spectral Class',\n",
    "    'normalizada' : False\n",
    "}\n",
    "# ======================================================== #\n",
    "\n",
    "\n",
    "df = df[ dados['X']+[dados['y']] ]\n",
    "df = df.dropna()\n",
    "\n",
    "if not dados['normalizada']:\n",
    "    for col in dados['X']:\n",
    "        df[[col]] = df[[col]]/df[[col]].mean()\n",
    "\n",
    "X = df[ dados['X'] ].to_numpy()\n",
    "y = df[[ dados['y'] ]].to_numpy()\n",
    "y = np.hstack((y)).T\n",
    "\n",
    "df.sample(5)"
   ]
  },
  {
   "cell_type": "markdown",
   "id": "59e76e9f",
   "metadata": {},
   "source": [
    "## Aplicando a regressão logística\n",
    "*Aplica a função e avalia a precisão da previsão.*"
   ]
  },
  {
   "cell_type": "code",
   "execution_count": 79,
   "id": "259fc199",
   "metadata": {},
   "outputs": [
    {
     "name": "stdout",
     "output_type": "stream",
     "text": [
      "A precisão do modelo é: 1.0\n"
     ]
    }
   ],
   "source": [
    "regressor = LogisticRegression(learning_rate=0.1, n_iters=2000)\n",
    "regressor.fit(X, y)\n",
    "predictions = regressor.predict(X)\n",
    "\n",
    "def accuracy(y_true, y_pred):\n",
    "    accuracy = np.sum(y_true == y_pred) / len(y_true)\n",
    "    return accuracy\n",
    "\n",
    "print(f\"A precisão do modelo é: {accuracy(y, predictions)}\")"
   ]
  },
  {
   "cell_type": "markdown",
   "id": "c96a6551",
   "metadata": {},
   "source": [
    "# Plotando os resultados visualmente\n",
    "*~ se você estiver analisando exatamente 2 vars numéricas ~*"
   ]
  },
  {
   "cell_type": "code",
   "execution_count": 80,
   "id": "f3285c60",
   "metadata": {
    "scrolled": true
   },
   "outputs": [
    {
     "name": "stdout",
     "output_type": "stream",
     "text": [
      "Sem visualização disponível.\n"
     ]
    }
   ],
   "source": [
    "try:\n",
    "    regressor.plot(X, y, dados['X'])\n",
    "except:\n",
    "    print(\"Sem visualização disponível.\")"
   ]
  },
  {
   "cell_type": "markdown",
   "id": "9113e7a5",
   "metadata": {},
   "source": [
    "## Mostrando os pesos\n",
    "*Cria uma tabela mostrando os pesos de avaliação das variáveis numéricas.*"
   ]
  },
  {
   "cell_type": "code",
   "execution_count": 81,
   "id": "dd6c430a",
   "metadata": {},
   "outputs": [
    {
     "data": {
      "text/html": [
       "<div>\n",
       "<style scoped>\n",
       "    .dataframe tbody tr th:only-of-type {\n",
       "        vertical-align: middle;\n",
       "    }\n",
       "\n",
       "    .dataframe tbody tr th {\n",
       "        vertical-align: top;\n",
       "    }\n",
       "\n",
       "    .dataframe thead th {\n",
       "        text-align: right;\n",
       "    }\n",
       "</style>\n",
       "<table border=\"1\" class=\"dataframe\">\n",
       "  <thead>\n",
       "    <tr style=\"text-align: right;\">\n",
       "      <th></th>\n",
       "      <th>Pesos</th>\n",
       "    </tr>\n",
       "  </thead>\n",
       "  <tbody>\n",
       "    <tr>\n",
       "      <th>Temperature (K)</th>\n",
       "      <td>-0.679525</td>\n",
       "    </tr>\n",
       "    <tr>\n",
       "      <th>Radius(R/Ro)</th>\n",
       "      <td>0.052074</td>\n",
       "    </tr>\n",
       "    <tr>\n",
       "      <th>Luminosity(L/Lo)</th>\n",
       "      <td>0.099987</td>\n",
       "    </tr>\n",
       "    <tr>\n",
       "      <th>Absolute magnitude(Mv)</th>\n",
       "      <td>0.168414</td>\n",
       "    </tr>\n",
       "  </tbody>\n",
       "</table>\n",
       "</div>"
      ],
      "text/plain": [
       "                           Pesos\n",
       "Temperature (K)        -0.679525\n",
       "Radius(R/Ro)            0.052074\n",
       "Luminosity(L/Lo)        0.099987\n",
       "Absolute magnitude(Mv)  0.168414"
      ]
     },
     "execution_count": 81,
     "metadata": {},
     "output_type": "execute_result"
    }
   ],
   "source": [
    "norma_pesos = pd.DataFrame(regressor.weights)/pd.DataFrame(regressor.weights).abs().sum()\n",
    "norma_pesos = norma_pesos[0].values.tolist()\n",
    "\n",
    "dfpesos = pd.DataFrame({'Pesos':norma_pesos}, index=dados['X'])\n",
    "\n",
    "dfpesos"
   ]
  },
  {
   "cell_type": "code",
   "execution_count": null,
   "id": "1be7fd5a",
   "metadata": {},
   "outputs": [],
   "source": []
  }
 ],
 "metadata": {
  "kernelspec": {
   "display_name": "Python [conda env:root] *",
   "language": "python",
   "name": "conda-root-py"
  },
  "language_info": {
   "codemirror_mode": {
    "name": "ipython",
    "version": 3
   },
   "file_extension": ".py",
   "mimetype": "text/x-python",
   "name": "python",
   "nbconvert_exporter": "python",
   "pygments_lexer": "ipython3",
   "version": "3.8.8"
  }
 },
 "nbformat": 4,
 "nbformat_minor": 5
}
