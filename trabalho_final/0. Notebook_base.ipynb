{
 "cells": [
  {
   "cell_type": "markdown",
   "id": "c93a3611",
   "metadata": {},
   "source": [
    "# Notebook Base de Regressão Logística"
   ]
  },
  {
   "cell_type": "code",
   "execution_count": 1,
   "id": "3b03f9f8",
   "metadata": {},
   "outputs": [],
   "source": [
    "import numpy as np\n",
    "import pandas as pd \n",
    "\n",
    "import seaborn as sns\n",
    "import matplotlib.pyplot as plt"
   ]
  },
  {
   "cell_type": "markdown",
   "id": "ff3adb94",
   "metadata": {},
   "source": [
    "## Classe de regressão logística\n",
    "*Faz o trabalho pesado em regressão logística.*"
   ]
  },
  {
   "cell_type": "code",
   "execution_count": 2,
   "id": "7a379adb",
   "metadata": {},
   "outputs": [],
   "source": [
    "class LogisticRegression:\n",
    "    def __init__(self, learning_rate=0.001, n_iters=1000):\n",
    "        self.lr = learning_rate\n",
    "        self.n_iters = n_iters\n",
    "        self.weights = None\n",
    "        self.bias = None\n",
    "\n",
    "    def fit(self, X, y):\n",
    "        n_samples, n_features = X.shape\n",
    "\n",
    "        # init parameters\n",
    "        self.weights = np.zeros(n_features)\n",
    "        self.bias = 0\n",
    "\n",
    "        # gradient descent\n",
    "        for _ in range(self.n_iters):\n",
    "            # approximate y with linear combination of weights and x, plus bias\n",
    "            linear_model = np.dot(X, self.weights) + self.bias\n",
    "            # apply sigmoid function\n",
    "            y_predicted = self._sigmoid(linear_model)\n",
    "\n",
    "            # compute gradients\n",
    "            dw = (1 / n_samples) * np.dot(X.T, (y_predicted - y))\n",
    "            db = (1 / n_samples) * np.sum(y_predicted - y)\n",
    "            # update parameters\n",
    "            self.weights -= self.lr * dw\n",
    "            self.bias -= self.lr * db\n",
    "\n",
    "    def predict(self, X):\n",
    "        linear_model = np.dot(X, self.weights) + self.bias\n",
    "        y_predicted = self._sigmoid(linear_model)\n",
    "        y_predicted_cls = [1 if i > 0.5 else 0 for i in y_predicted]\n",
    "        \n",
    "        return np.array(y_predicted_cls)\n",
    "    \n",
    "    def plot(self, X, y, legend):\n",
    "        # only plots if X refers to exactly 2 variables\n",
    "        if X.shape[1] != 2:\n",
    "            raise ValueError(\"Can plot only for X's that refers to exactly 2 vars.\")\n",
    "        \n",
    "        slope = -(self.weights[0]/self.weights[1])\n",
    "        intercept = -(self.bias/self.weights[1])\n",
    "        predictions = self.predict(X)\n",
    "\n",
    "        sns.set_style('white')\n",
    "        sns.scatterplot(x = X[:,0], y= X[:,1], hue=y.reshape(-1), style=predictions.reshape(-1));\n",
    "\n",
    "        ax = plt.gca()\n",
    "        ax.autoscale(False)\n",
    "        x_vals = np.array(ax.get_xlim())\n",
    "        y_vals = intercept + (slope * x_vals)\n",
    "        plt.plot(x_vals, y_vals, c=\"k\");\n",
    "        \n",
    "        plt.xlabel(legend[0])\n",
    "        plt.ylabel(legend[1])\n",
    "\n",
    "    def _sigmoid(self, x):\n",
    "        return 1 / (1 + np.exp(-x))"
   ]
  },
  {
   "cell_type": "markdown",
   "id": "dfbbf2ae",
   "metadata": {},
   "source": [
    "## Importando a base\n",
    "*Importa a base, seleciona as variáveis, limpa, normaliza.*\n"
   ]
  },
  {
   "cell_type": "code",
   "execution_count": 3,
   "id": "7f6ebfeb",
   "metadata": {
    "scrolled": true
   },
   "outputs": [
    {
     "data": {
      "text/html": [
       "<div>\n",
       "<style scoped>\n",
       "    .dataframe tbody tr th:only-of-type {\n",
       "        vertical-align: middle;\n",
       "    }\n",
       "\n",
       "    .dataframe tbody tr th {\n",
       "        vertical-align: top;\n",
       "    }\n",
       "\n",
       "    .dataframe thead th {\n",
       "        text-align: right;\n",
       "    }\n",
       "</style>\n",
       "<table border=\"1\" class=\"dataframe\">\n",
       "  <thead>\n",
       "    <tr style=\"text-align: right;\">\n",
       "      <th></th>\n",
       "      <th>Temperature (K)</th>\n",
       "      <th>Luminosity(L/Lo)</th>\n",
       "      <th>Radius(R/Ro)</th>\n",
       "      <th>Absolute magnitude(Mv)</th>\n",
       "      <th>Star type</th>\n",
       "      <th>Star color</th>\n",
       "      <th>Spectral Class</th>\n",
       "    </tr>\n",
       "  </thead>\n",
       "  <tbody>\n",
       "    <tr>\n",
       "      <th>215</th>\n",
       "      <td>32460</td>\n",
       "      <td>173800.0000</td>\n",
       "      <td>6.237</td>\n",
       "      <td>-4.36</td>\n",
       "      <td>3</td>\n",
       "      <td>Blue</td>\n",
       "      <td>O</td>\n",
       "    </tr>\n",
       "    <tr>\n",
       "      <th>95</th>\n",
       "      <td>11250</td>\n",
       "      <td>672.0000</td>\n",
       "      <td>6.980</td>\n",
       "      <td>-2.30</td>\n",
       "      <td>3</td>\n",
       "      <td>Blue-white</td>\n",
       "      <td>A</td>\n",
       "    </tr>\n",
       "    <tr>\n",
       "      <th>7</th>\n",
       "      <td>2600</td>\n",
       "      <td>0.0004</td>\n",
       "      <td>0.096</td>\n",
       "      <td>17.40</td>\n",
       "      <td>0</td>\n",
       "      <td>Red</td>\n",
       "      <td>M</td>\n",
       "    </tr>\n",
       "    <tr>\n",
       "      <th>232</th>\n",
       "      <td>32489</td>\n",
       "      <td>648430.0000</td>\n",
       "      <td>1948.500</td>\n",
       "      <td>-10.84</td>\n",
       "      <td>5</td>\n",
       "      <td>Blue</td>\n",
       "      <td>O</td>\n",
       "    </tr>\n",
       "    <tr>\n",
       "      <th>46</th>\n",
       "      <td>3575</td>\n",
       "      <td>123000.0000</td>\n",
       "      <td>45.000</td>\n",
       "      <td>-6.78</td>\n",
       "      <td>4</td>\n",
       "      <td>Red</td>\n",
       "      <td>M</td>\n",
       "    </tr>\n",
       "  </tbody>\n",
       "</table>\n",
       "</div>"
      ],
      "text/plain": [
       "     Temperature (K)  Luminosity(L/Lo)  Radius(R/Ro)  Absolute magnitude(Mv)  \\\n",
       "215            32460       173800.0000         6.237                   -4.36   \n",
       "95             11250          672.0000         6.980                   -2.30   \n",
       "7               2600            0.0004         0.096                   17.40   \n",
       "232            32489       648430.0000      1948.500                  -10.84   \n",
       "46              3575       123000.0000        45.000                   -6.78   \n",
       "\n",
       "     Star type  Star color Spectral Class  \n",
       "215          3        Blue              O  \n",
       "95           3  Blue-white              A  \n",
       "7            0         Red              M  \n",
       "232          5        Blue              O  \n",
       "46           4         Red              M  "
      ]
     },
     "execution_count": 3,
     "metadata": {},
     "output_type": "execute_result"
    }
   ],
   "source": [
    "df = pd.read_csv(\"db_estrelas.csv\")\n",
    "\n",
    "df.sample(5)"
   ]
  },
  {
   "cell_type": "code",
   "execution_count": 4,
   "id": "51535331",
   "metadata": {},
   "outputs": [
    {
     "data": {
      "text/html": [
       "<div>\n",
       "<style scoped>\n",
       "    .dataframe tbody tr th:only-of-type {\n",
       "        vertical-align: middle;\n",
       "    }\n",
       "\n",
       "    .dataframe tbody tr th {\n",
       "        vertical-align: top;\n",
       "    }\n",
       "\n",
       "    .dataframe thead th {\n",
       "        text-align: right;\n",
       "    }\n",
       "</style>\n",
       "<table border=\"1\" class=\"dataframe\">\n",
       "  <thead>\n",
       "    <tr style=\"text-align: right;\">\n",
       "      <th></th>\n",
       "      <th>Temperature (K)</th>\n",
       "      <th>Radius(R/Ro)</th>\n",
       "      <th>Spectral Class</th>\n",
       "    </tr>\n",
       "  </thead>\n",
       "  <tbody>\n",
       "    <tr>\n",
       "      <th>195</th>\n",
       "      <td>0.447615</td>\n",
       "      <td>0.002650</td>\n",
       "      <td>1</td>\n",
       "    </tr>\n",
       "    <tr>\n",
       "      <th>200</th>\n",
       "      <td>2.088788</td>\n",
       "      <td>0.000048</td>\n",
       "      <td>0</td>\n",
       "    </tr>\n",
       "    <tr>\n",
       "      <th>67</th>\n",
       "      <td>0.350454</td>\n",
       "      <td>0.000360</td>\n",
       "      <td>1</td>\n",
       "    </tr>\n",
       "    <tr>\n",
       "      <th>4</th>\n",
       "      <td>0.241225</td>\n",
       "      <td>0.000407</td>\n",
       "      <td>1</td>\n",
       "    </tr>\n",
       "    <tr>\n",
       "      <th>32</th>\n",
       "      <td>1.900437</td>\n",
       "      <td>0.028477</td>\n",
       "      <td>0</td>\n",
       "    </tr>\n",
       "  </tbody>\n",
       "</table>\n",
       "</div>"
      ],
      "text/plain": [
       "     Temperature (K)  Radius(R/Ro)  Spectral Class\n",
       "195         0.447615      0.002650               1\n",
       "200         2.088788      0.000048               0\n",
       "67          0.350454      0.000360               1\n",
       "4           0.241225      0.000407               1\n",
       "32          1.900437      0.028477               0"
      ]
     },
     "execution_count": 4,
     "metadata": {},
     "output_type": "execute_result"
    }
   ],
   "source": [
    "# Específico pro exemplo de estrelas: transforma as várias categorias em só duas\n",
    "df = df[(df['Spectral Class'] == 'M') | (df['Spectral Class'] == 'B')]\n",
    "df['Spectral Class'].replace(to_replace='M', value=1, inplace=True)\n",
    "df['Spectral Class'].replace(to_replace='B', value=0, inplace=True)\n",
    "\n",
    "# ======================================================== #\n",
    "# =================== Seleção de Dados =================== #\n",
    "# ======================================================== #\n",
    "dados = {\n",
    "    'X' : ['Temperature (K)', 'Radius(R/Ro)'],\n",
    "    'y' : 'Spectral Class',\n",
    "    'normalizada' : False\n",
    "}\n",
    "# ======================================================== #\n",
    "\n",
    "\n",
    "df = df[ dados['X']+[dados['y']] ]\n",
    "df = df.dropna()\n",
    "\n",
    "if not dados['normalizada']:\n",
    "    for col in dados['X']:\n",
    "        df[[col]] = df[[col]]/df[[col]].mean()\n",
    "\n",
    "X = df[ dados['X'] ].to_numpy()\n",
    "y = df[[ dados['y'] ]].to_numpy()\n",
    "y = np.hstack((y)).T\n",
    "\n",
    "df.sample(5)"
   ]
  },
  {
   "cell_type": "markdown",
   "id": "5b29d228",
   "metadata": {},
   "source": [
    "## Aplicando a regressão logística\n",
    "*Aplica a função e avalia a precisão da previsão.*"
   ]
  },
  {
   "cell_type": "code",
   "execution_count": 5,
   "id": "6b810b2f",
   "metadata": {},
   "outputs": [
    {
     "name": "stdout",
     "output_type": "stream",
     "text": [
      "A precisão do modelo é: 1.0\n"
     ]
    }
   ],
   "source": [
    "regressor = LogisticRegression(learning_rate=0.1, n_iters=2000)\n",
    "regressor.fit(X, y)\n",
    "predictions = regressor.predict(X)\n",
    "\n",
    "def accuracy(y_true, y_pred):\n",
    "    accuracy = np.sum(y_true == y_pred) / len(y_true)\n",
    "    return accuracy\n",
    "\n",
    "print(f\"A precisão do modelo é: {accuracy(y, predictions)}\")"
   ]
  },
  {
   "cell_type": "markdown",
   "id": "2f8e77d8",
   "metadata": {},
   "source": [
    "# Plotando os resultados visualmente\n",
    "*~ se você estiver analisando exatamente 2 vars numéricas ~*"
   ]
  },
  {
   "cell_type": "code",
   "execution_count": 6,
   "id": "c5380d5c",
   "metadata": {
    "scrolled": true
   },
   "outputs": [
    {
     "data": {
      "image/png": "[encoded data removed]",
      "text/plain": [
       "<Figure size 432x288 with 1 Axes>"
      ]
     },
     "metadata": {},
     "output_type": "display_data"
    }
   ],
   "source": [
    "try:\n",
    "    regressor.plot(X, y, dados['X'])\n",
    "except:\n",
    "    print(\"Sem visualização disponível.\")"
   ]
  },
  {
   "cell_type": "markdown",
   "id": "2bf694ba",
   "metadata": {},
   "source": [
    "## Mostrando os pesos\n",
    "*Cria uma tabela mostrando os pesos de avaliação das variáveis numéricas.*"
   ]
  },
  {
   "cell_type": "code",
   "execution_count": 7,
   "id": "9e15983a",
   "metadata": {},
   "outputs": [
    {
     "data": {
      "text/html": [
       "<div>\n",
       "<style scoped>\n",
       "    .dataframe tbody tr th:only-of-type {\n",
       "        vertical-align: middle;\n",
       "    }\n",
       "\n",
       "    .dataframe tbody tr th {\n",
       "        vertical-align: top;\n",
       "    }\n",
       "\n",
       "    .dataframe thead th {\n",
       "        text-align: right;\n",
       "    }\n",
       "</style>\n",
       "<table border=\"1\" class=\"dataframe\">\n",
       "  <thead>\n",
       "    <tr style=\"text-align: right;\">\n",
       "      <th></th>\n",
       "      <th>Pesos</th>\n",
       "    </tr>\n",
       "  </thead>\n",
       "  <tbody>\n",
       "    <tr>\n",
       "      <th>Temperature (K)</th>\n",
       "      <td>-0.98281</td>\n",
       "    </tr>\n",
       "    <tr>\n",
       "      <th>Radius(R/Ro)</th>\n",
       "      <td>0.01719</td>\n",
       "    </tr>\n",
       "  </tbody>\n",
       "</table>\n",
       "</div>"
      ],
      "text/plain": [
       "                   Pesos\n",
       "Temperature (K) -0.98281\n",
       "Radius(R/Ro)     0.01719"
      ]
     },
     "execution_count": 7,
     "metadata": {},
     "output_type": "execute_result"
    }
   ],
   "source": [
    "norma_pesos = pd.DataFrame(regressor.weights)/pd.DataFrame(regressor.weights).abs().sum()\n",
    "norma_pesos = norma_pesos[0].values.tolist()\n",
    "\n",
    "dfpesos = pd.DataFrame({'Pesos':norma_pesos}, index=dados['X'])\n",
    "\n",
    "dfpesos"
   ]
  }
 ],
 "metadata": {
  "kernelspec": {
   "display_name": "Python [conda env:root] *",
   "language": "python",
   "name": "conda-root-py"
  },
  "language_info": {
   "codemirror_mode": {
    "name": "ipython",
    "version": 3
   },
   "file_extension": ".py",
   "mimetype": "text/x-python",
   "name": "python",
   "nbconvert_exporter": "python",
   "pygments_lexer": "ipython3",
   "version": "3.8.8"
  }
 },
 "nbformat": 4,
 "nbformat_minor": 5
}
