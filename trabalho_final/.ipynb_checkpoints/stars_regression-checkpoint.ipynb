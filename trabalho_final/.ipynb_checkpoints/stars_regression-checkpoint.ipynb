{
 "cells": [
  {
   "cell_type": "markdown",
   "metadata": {},
   "source": [
    "# Trabalho Final - Algebra Linear"
   ]
  },
  {
   "cell_type": "code",
   "execution_count": 2,
   "metadata": {},
   "outputs": [],
   "source": [
    "import numpy as np\n",
    "import pandas as pd\n",
    "import matplotlib.pyplot as plt\n",
    "from sklearn.datasets import make_classification\n",
    "import seaborn as sns"
   ]
  },
  {
   "cell_type": "markdown",
   "metadata": {},
   "source": [
    "## Inicialmente, importando a base de dados e fazendo pequenas análises."
   ]
  },
  {
   "cell_type": "code",
   "execution_count": 4,
   "metadata": {},
   "outputs": [
    {
     "data": {
      "text/html": [
       "<div>\n",
       "<style scoped>\n",
       "    .dataframe tbody tr th:only-of-type {\n",
       "        vertical-align: middle;\n",
       "    }\n",
       "\n",
       "    .dataframe tbody tr th {\n",
       "        vertical-align: top;\n",
       "    }\n",
       "\n",
       "    .dataframe thead th {\n",
       "        text-align: right;\n",
       "    }\n",
       "</style>\n",
       "<table border=\"1\" class=\"dataframe\">\n",
       "  <thead>\n",
       "    <tr style=\"text-align: right;\">\n",
       "      <th></th>\n",
       "      <th>Temperature (K)</th>\n",
       "      <th>Luminosity(L/Lo)</th>\n",
       "      <th>Radius(R/Ro)</th>\n",
       "      <th>Absolute magnitude(Mv)</th>\n",
       "      <th>Star type</th>\n",
       "      <th>Star color</th>\n",
       "      <th>Spectral Class</th>\n",
       "    </tr>\n",
       "  </thead>\n",
       "  <tbody>\n",
       "    <tr>\n",
       "      <th>186</th>\n",
       "      <td>2968</td>\n",
       "      <td>0.000461</td>\n",
       "      <td>0.119</td>\n",
       "      <td>17.45</td>\n",
       "      <td>0</td>\n",
       "      <td>Red</td>\n",
       "      <td>1</td>\n",
       "    </tr>\n",
       "    <tr>\n",
       "      <th>119</th>\n",
       "      <td>3780</td>\n",
       "      <td>200000.000000</td>\n",
       "      <td>1324.000</td>\n",
       "      <td>-10.70</td>\n",
       "      <td>5</td>\n",
       "      <td>Red</td>\n",
       "      <td>1</td>\n",
       "    </tr>\n",
       "    <tr>\n",
       "      <th>77</th>\n",
       "      <td>3342</td>\n",
       "      <td>0.001500</td>\n",
       "      <td>0.307</td>\n",
       "      <td>11.87</td>\n",
       "      <td>1</td>\n",
       "      <td>Red</td>\n",
       "      <td>1</td>\n",
       "    </tr>\n",
       "    <tr>\n",
       "      <th>154</th>\n",
       "      <td>25070</td>\n",
       "      <td>14500.000000</td>\n",
       "      <td>5.920</td>\n",
       "      <td>-3.98</td>\n",
       "      <td>3</td>\n",
       "      <td>Blue-white</td>\n",
       "      <td>0</td>\n",
       "    </tr>\n",
       "    <tr>\n",
       "      <th>15</th>\n",
       "      <td>3340</td>\n",
       "      <td>0.003800</td>\n",
       "      <td>0.240</td>\n",
       "      <td>13.07</td>\n",
       "      <td>1</td>\n",
       "      <td>Red</td>\n",
       "      <td>1</td>\n",
       "    </tr>\n",
       "  </tbody>\n",
       "</table>\n",
       "</div>"
      ],
      "text/plain": [
       "     Temperature (K)  Luminosity(L/Lo)  Radius(R/Ro)  Absolute magnitude(Mv)  \\\n",
       "186             2968          0.000461         0.119                   17.45   \n",
       "119             3780     200000.000000      1324.000                  -10.70   \n",
       "77              3342          0.001500         0.307                   11.87   \n",
       "154            25070      14500.000000         5.920                   -3.98   \n",
       "15              3340          0.003800         0.240                   13.07   \n",
       "\n",
       "     Star type  Star color  Spectral Class  \n",
       "186          0         Red               1  \n",
       "119          5         Red               1  \n",
       "77           1         Red               1  \n",
       "154          3  Blue-white               0  \n",
       "15           1         Red               1  "
      ]
     },
     "execution_count": 4,
     "metadata": {},
     "output_type": "execute_result"
    }
   ],
   "source": [
    "data = pd.read_csv('../trabalho_final/stars_data.csv')\n",
    "\n",
    "# seleciona apenas os tipos de estrela que vamos abordar: anãs vermelhas e gigantes azuis, respectivamente\n",
    "data = data[(data['Spectral Class'] == 'M') | (data['Spectral Class'] == 'B')]\n",
    "data['Spectral Class'].replace(to_replace='M', value=1, inplace=True)\n",
    "data['Spectral Class'].replace(to_replace='B', value=0, inplace=True)\n",
    "\n",
    "data.sample(5)"
   ]
  },
  {
   "cell_type": "markdown",
   "metadata": {},
   "source": [
    "## Selecionando cols, normalizando e removendo NaNs\n",
    "    papel importante a ser feito"
   ]
  },
  {
   "cell_type": "code",
   "execution_count": 6,
   "metadata": {
    "scrolled": true
   },
   "outputs": [
    {
     "data": {
      "text/html": [
       "<div>\n",
       "<style scoped>\n",
       "    .dataframe tbody tr th:only-of-type {\n",
       "        vertical-align: middle;\n",
       "    }\n",
       "\n",
       "    .dataframe tbody tr th {\n",
       "        vertical-align: top;\n",
       "    }\n",
       "\n",
       "    .dataframe thead th {\n",
       "        text-align: right;\n",
       "    }\n",
       "</style>\n",
       "<table border=\"1\" class=\"dataframe\">\n",
       "  <thead>\n",
       "    <tr style=\"text-align: right;\">\n",
       "      <th></th>\n",
       "      <th>Spectral Class</th>\n",
       "      <th>Temperature (K)</th>\n",
       "      <th>Radius(R/Ro)</th>\n",
       "    </tr>\n",
       "  </thead>\n",
       "  <tbody>\n",
       "    <tr>\n",
       "      <th>78</th>\n",
       "      <td>1</td>\n",
       "      <td>0.326070</td>\n",
       "      <td>0.000388</td>\n",
       "    </tr>\n",
       "    <tr>\n",
       "      <th>154</th>\n",
       "      <td>0</td>\n",
       "      <td>3.118876</td>\n",
       "      <td>0.023414</td>\n",
       "    </tr>\n",
       "    <tr>\n",
       "      <th>137</th>\n",
       "      <td>1</td>\n",
       "      <td>0.447615</td>\n",
       "      <td>0.002215</td>\n",
       "    </tr>\n",
       "    <tr>\n",
       "      <th>49</th>\n",
       "      <td>0</td>\n",
       "      <td>4.198726</td>\n",
       "      <td>0.102833</td>\n",
       "    </tr>\n",
       "    <tr>\n",
       "      <th>59</th>\n",
       "      <td>1</td>\n",
       "      <td>0.439778</td>\n",
       "      <td>6.114620</td>\n",
       "    </tr>\n",
       "  </tbody>\n",
       "</table>\n",
       "</div>"
      ],
      "text/plain": [
       "     Spectral Class  Temperature (K)  Radius(R/Ro)\n",
       "78                1         0.326070      0.000388\n",
       "154               0         3.118876      0.023414\n",
       "137               1         0.447615      0.002215\n",
       "49                0         4.198726      0.102833\n",
       "59                1         0.439778      6.114620"
      ]
     },
     "execution_count": 6,
     "metadata": {},
     "output_type": "execute_result"
    }
   ],
   "source": [
    "cols = {\n",
    "    'y' : 'Spectral Class',\n",
    "    'x_1' : 'Temperature (K)',\n",
    "    'x_2' : 'Radius(R/Ro)'\n",
    "}\n",
    "\n",
    "# reduz a base para as colunas que serão utilizadas\n",
    "data = data[[cols['y'], cols['x_1'], cols['x_2'] ]]\n",
    "\n",
    "# normaliza as colunas numéricas\n",
    "data[[cols['x_1']]] = data[[cols['x_1']]]/data[[cols['x_1']]].mean()\n",
    "data[[cols['x_2']]] = data[[cols['x_2']]]/data[[cols['x_2']]].mean()\n",
    "\n",
    "# remove os dados nulos\n",
    "data = data.dropna()\n",
    "\n",
    "data.sample(5)"
   ]
  },
  {
   "cell_type": "markdown",
   "metadata": {},
   "source": [
    "## Criando as funções para a Regressão Logística"
   ]
  },
  {
   "cell_type": "markdown",
   "metadata": {},
   "source": [
    "### Função sigmóide (logit)"
   ]
  },
  {
   "cell_type": "code",
   "execution_count": 13,
   "metadata": {},
   "outputs": [],
   "source": [
    "def sigmoid(x):\n",
    "    return 1 / (1 + np.exp(-x))"
   ]
  },
  {
   "cell_type": "markdown",
   "metadata": {},
   "source": [
    "### Função de custo"
   ]
  },
  {
   "cell_type": "code",
   "execution_count": 12,
   "metadata": {},
   "outputs": [],
   "source": [
    "def compute_cost(X, y, theta):\n",
    "    m = len(y)\n",
    "    h = sigmoid(X @ theta)\n",
    "    epsilon = 0.00001\n",
    "    cost = (1/m)*(((-y).T @ np.log(h + epsilon))-((1-y).T @ np.log(1-h + epsilon)))\n",
    "    return cost"
   ]
  },
  {
   "cell_type": "markdown",
   "metadata": {},
   "source": [
    "### Gradiente descendente"
   ]
  },
  {
   "cell_type": "code",
   "execution_count": 14,
   "metadata": {},
   "outputs": [],
   "source": [
    "def gradient_descent(X, y, params, learning_rate, iterations):\n",
    "    m = len(y)\n",
    "    cost_history = np.zeros((iterations,1))\n",
    "\n",
    "    for i in range(iterations):\n",
    "        params = params - (learning_rate/m) * (X.T @ (sigmoid(X @ params) - y)) \n",
    "        cost_history[i] = compute_cost(X, y, params)\n",
    "\n",
    "    return (cost_history, params)"
   ]
  },
  {
   "cell_type": "markdown",
   "metadata": {},
   "source": [
    "### Função de predição\n",
    "    Maior que 0.5 é arredondada p/ 1, menor p/ 0."
   ]
  },
  {
   "cell_type": "code",
   "execution_count": 15,
   "metadata": {},
   "outputs": [],
   "source": [
    "def predict(X, params):\n",
    "    return np.round(sigmoid(X @ params))"
   ]
  },
  {
   "cell_type": "markdown",
   "metadata": {},
   "source": [
    "## Transformando os dados\n",
    "    pd.core.series.Series em np.ndarray"
   ]
  },
  {
   "cell_type": "code",
   "execution_count": 8,
   "metadata": {},
   "outputs": [
    {
     "data": {
      "text/plain": [
       "array([[0.38167973, 0.00067237],\n",
       "       [0.37844515, 0.00060988],\n",
       "       [0.3234574 , 0.00040342],\n",
       "       [0.34833873, 0.00063282],\n",
       "       [0.24122457, 0.00040738]])"
      ]
     },
     "execution_count": 8,
     "metadata": {},
     "output_type": "execute_result"
    }
   ],
   "source": [
    "y = data[cols['y']].to_numpy(dtype ='int')\n",
    "y = y[:,np.newaxis] #transforma y em um vetor coluna\n",
    "\n",
    "X_1 = data[cols['x_1']].to_numpy(dtype ='float')\n",
    "X_1 = np.vstack((X_1)) #transforma x_1 em vec coluna\n",
    "\n",
    "X_2 = data[cols['x_2']].to_numpy(dtype ='float')\n",
    "X_2 = np.vstack((X_2)) #transforma x_2 em vec coluna\n",
    "\n",
    "X = np.hstack((X_1,X_2))\n",
    "\n",
    "X[:5] # equivalente a head(5)"
   ]
  },
  {
   "cell_type": "code",
   "execution_count": 11,
   "metadata": {
    "scrolled": true
   },
   "outputs": [
    {
     "data": {
      "text/plain": [
       "Text(0, 0.5, 'Radius(R/Ro)')"
      ]
     },
     "execution_count": 11,
     "metadata": {},
     "output_type": "execute_result"
    },
    {
     "data": {
      "image/png": "[encoded data removed]",
      "text/plain": [
       "<Figure size 432x288 with 1 Axes>"
      ]
     },
     "metadata": {
      "needs_background": "light"
     },
     "output_type": "display_data"
    }
   ],
   "source": [
    "# plota os nossos dados\n",
    "sns.scatterplot(x = X[:,0], y = X[:,1], hue = y.reshape(-1));\n",
    "\n",
    "# legendas\n",
    "plt.xlabel(cols['x_1'].replace(\"_\", \" \").title())\n",
    "plt.ylabel(cols['x_2'].replace(\"_\", \" \").title())"
   ]
  },
  {
   "cell_type": "code",
   "execution_count": 38,
   "metadata": {
    "scrolled": true
   },
   "outputs": [
    {
     "data": {
      "image/png": "[encoded data removed]",
      "text/plain": [
       "<Figure size 432x288 with 1 Axes>"
      ]
     },
     "metadata": {},
     "output_type": "display_data"
    }
   ],
   "source": [
    "\"\"\"Plota o gráfico de custo por iteration\n",
    "\n",
    "Interessante para que possamos observá-lo e verificar se a base em\n",
    "questão exige mais ou menos iterações para dar um resultado eficiente.\n",
    "O gráfico ideal deve ser uma curva convexa com valores próximos de 0 a\n",
    "medida que o número de iterations aumenta.\"\"\"\n",
    "m = len(y)\n",
    "\n",
    "X_new = np.hstack((np.ones((m,1)),X))\n",
    "n = np.size(X_new,1)\n",
    "params = np.zeros((n,1))\n",
    "\n",
    "iterations = 1500 # quanto mais alta, maior a precisão\n",
    "learning_rate = 1 # quanto mais baixa, maior a precisão\n",
    "\n",
    "initial_cost = compute_cost(X_new, y, params)\n",
    "\n",
    "(cost_history, params_optimal) = gradient_descent(X_new, y, params, learning_rate, iterations)\n",
    "\n",
    "y_pred = predict(X_new, params_optimal)\n",
    "score = float(sum(y_pred == y))/ float(len(y))\n",
    "\n",
    "plt.figure()\n",
    "sns.set_style('white')\n",
    "plt.plot(range(len(cost_history)), cost_history, 'r')\n",
    "plt.title(\"Convergence Graph of Cost Function\")\n",
    "plt.xlabel(\"Number of Iterations\")\n",
    "plt.ylabel(\"Cost\")\n",
    "plt.show()"
   ]
  },
  {
   "cell_type": "code",
   "execution_count": 36,
   "metadata": {},
   "outputs": [
    {
     "name": "stdout",
     "output_type": "stream",
     "text": [
      "1.0\n"
     ]
    }
   ],
   "source": [
    "# avalia a precisão dos resultados\n",
    "\n",
    "y_pred = predict(X_new, params_optimal)\n",
    "score = float(sum(y_pred == y))/ float(len(y))\n",
    "print(score)"
   ]
  },
  {
   "cell_type": "code",
   "execution_count": 37,
   "metadata": {},
   "outputs": [
    {
     "data": {
      "text/plain": [
       "Text(0, 0.5, 'Radius(R/Ro)')"
      ]
     },
     "execution_count": 37,
     "metadata": {},
     "output_type": "execute_result"
    },
    {
     "data": {
      "image/png": "[encoded data removed]",
      "text/plain": [
       "<Figure size 432x288 with 1 Axes>"
      ]
     },
     "metadata": {},
     "output_type": "display_data"
    }
   ],
   "source": [
    "# cria um gráfico que exibe visualmente como a divisão está sendo dada\n",
    "\n",
    "slope = -(params_optimal[1] / params_optimal[2])\n",
    "intercept = -(params_optimal[0] / params_optimal[2])\n",
    "\n",
    "sns.set_style('white')\n",
    "sns.scatterplot(x = X_new[:,1], y= X_new[:,2], hue=y.reshape(-1));\n",
    "\n",
    "ax = plt.gca()\n",
    "ax.autoscale(False)\n",
    "x_vals = np.array(ax.get_xlim())\n",
    "y_vals = intercept + (slope * x_vals)\n",
    "plt.plot(x_vals, y_vals, c=\"k\");\n",
    "\n",
    "# legendas\n",
    "plt.xlabel(cols['x_1'].replace(\"_\", \" \").title())\n",
    "plt.ylabel(cols['x_2'].replace(\"_\", \" \").title())"
   ]
  },
  {
   "cell_type": "code",
   "execution_count": null,
   "metadata": {},
   "outputs": [],
   "source": []
  }
 ],
 "metadata": {
  "kernelspec": {
   "display_name": "Python 3",
   "language": "python",
   "name": "python3"
  },
  "language_info": {
   "codemirror_mode": {
    "name": "ipython",
    "version": 3
   },
   "file_extension": ".py",
   "mimetype": "text/x-python",
   "name": "python",
   "nbconvert_exporter": "python",
   "pygments_lexer": "ipython3",
   "version": "3.8.8"
  }
 },
 "nbformat": 4,
 "nbformat_minor": 4
}
