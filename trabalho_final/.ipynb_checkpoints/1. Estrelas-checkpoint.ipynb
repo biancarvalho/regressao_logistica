{
 "cells": [
  {
   "cell_type": "markdown",
   "id": "c93a3611",
   "metadata": {},
   "source": [
    "# Notebook Base de Regressão Logística"
   ]
  },
  {
   "cell_type": "code",
   "execution_count": 1,
   "id": "3b03f9f8",
   "metadata": {},
   "outputs": [],
   "source": [
    "import numpy as np\n",
    "import pandas as pd \n",
    "\n",
    "import seaborn as sns\n",
    "import matplotlib.pyplot as plt"
   ]
  },
  {
   "cell_type": "markdown",
   "id": "ff3adb94",
   "metadata": {},
   "source": [
    "## Classe de regressão logística\n",
    "*Faz o trabalho pesado em regressão logística.*"
   ]
  },
  {
   "cell_type": "code",
   "execution_count": 2,
   "id": "7a379adb",
   "metadata": {},
   "outputs": [],
   "source": [
    "class LogisticRegression:\n",
    "    def __init__(self, learning_rate=0.001, n_iters=1000):\n",
    "        self.lr = learning_rate\n",
    "        self.n_iters = n_iters\n",
    "        self.weights = None\n",
    "        self.bias = None\n",
    "\n",
    "    def fit(self, X, y):\n",
    "        n_samples, n_features = X.shape\n",
    "\n",
    "        # init parameters\n",
    "        self.weights = np.zeros(n_features)\n",
    "        self.bias = 0\n",
    "\n",
    "        # gradient descent\n",
    "        for _ in range(self.n_iters):\n",
    "            # approximate y with linear combination of weights and x, plus bias\n",
    "            linear_model = np.dot(X, self.weights) + self.bias\n",
    "            # apply sigmoid function\n",
    "            y_predicted = self._sigmoid(linear_model)\n",
    "\n",
    "            # compute gradients\n",
    "            dw = (1 / n_samples) * np.dot(X.T, (y_predicted - y))\n",
    "            db = (1 / n_samples) * np.sum(y_predicted - y)\n",
    "            # update parameters\n",
    "            self.weights -= self.lr * dw\n",
    "            self.bias -= self.lr * db\n",
    "\n",
    "    def predict(self, X):\n",
    "        linear_model = np.dot(X, self.weights) + self.bias\n",
    "        y_predicted = self._sigmoid(linear_model)\n",
    "        y_predicted_cls = [1 if i > 0.5 else 0 for i in y_predicted]\n",
    "        \n",
    "        return np.array(y_predicted_cls)\n",
    "    \n",
    "    def plot(self, X, y, legend):\n",
    "        # only plots if X refers to exactly 2 variables\n",
    "        if X.shape[1] != 2:\n",
    "            raise ValueError(\"Can plot only for X's that refers to exactly 2 vars.\")\n",
    "        \n",
    "        slope = -(self.weights[0]/self.weights[1])\n",
    "        intercept = -(self.bias/self.weights[1])\n",
    "        predictions = self.predict(X)\n",
    "\n",
    "        sns.set_style('white')\n",
    "        sns.scatterplot(x = X[:,0], y= X[:,1], hue=y.reshape(-1), style=predictions.reshape(-1));\n",
    "\n",
    "        ax = plt.gca()\n",
    "        ax.autoscale(False)\n",
    "        x_vals = np.array(ax.get_xlim())\n",
    "        y_vals = intercept + (slope * x_vals)\n",
    "        plt.plot(x_vals, y_vals, c=\"k\");\n",
    "        \n",
    "        plt.xlabel(legend[0])\n",
    "        plt.ylabel(legend[1])\n",
    "\n",
    "    def _sigmoid(self, x):\n",
    "        return 1 / (1 + np.exp(-x))"
   ]
  },
  {
   "cell_type": "markdown",
   "id": "3444b11f",
   "metadata": {},
   "source": [
    "# Comparando Estrelas B(azuis) com M(vermelhas)"
   ]
  },
  {
   "cell_type": "code",
   "execution_count": 15,
   "id": "9157ec54",
   "metadata": {},
   "outputs": [
    {
     "data": {
      "text/html": [
       "<div>\n",
       "<style scoped>\n",
       "    .dataframe tbody tr th:only-of-type {\n",
       "        vertical-align: middle;\n",
       "    }\n",
       "\n",
       "    .dataframe tbody tr th {\n",
       "        vertical-align: top;\n",
       "    }\n",
       "\n",
       "    .dataframe thead th {\n",
       "        text-align: right;\n",
       "    }\n",
       "</style>\n",
       "<table border=\"1\" class=\"dataframe\">\n",
       "  <thead>\n",
       "    <tr style=\"text-align: right;\">\n",
       "      <th></th>\n",
       "      <th>Temperature (K)</th>\n",
       "      <th>Absolute magnitude(Mv)</th>\n",
       "      <th>Spectral Class</th>\n",
       "    </tr>\n",
       "  </thead>\n",
       "  <tbody>\n",
       "    <tr>\n",
       "      <th>217</th>\n",
       "      <td>2.413490</td>\n",
       "      <td>-0.439572</td>\n",
       "      <td>1</td>\n",
       "    </tr>\n",
       "    <tr>\n",
       "      <th>187</th>\n",
       "      <td>0.433433</td>\n",
       "      <td>2.379114</td>\n",
       "      <td>0</td>\n",
       "    </tr>\n",
       "    <tr>\n",
       "      <th>87</th>\n",
       "      <td>1.365985</td>\n",
       "      <td>1.597018</td>\n",
       "      <td>1</td>\n",
       "    </tr>\n",
       "    <tr>\n",
       "      <th>115</th>\n",
       "      <td>0.442017</td>\n",
       "      <td>-1.574183</td>\n",
       "      <td>0</td>\n",
       "    </tr>\n",
       "    <tr>\n",
       "      <th>17</th>\n",
       "      <td>0.459310</td>\n",
       "      <td>1.541358</td>\n",
       "      <td>0</td>\n",
       "    </tr>\n",
       "  </tbody>\n",
       "</table>\n",
       "</div>"
      ],
      "text/plain": [
       "     Temperature (K)  Absolute magnitude(Mv)  Spectral Class\n",
       "217         2.413490               -0.439572               1\n",
       "187         0.433433                2.379114               0\n",
       "87          1.365985                1.597018               1\n",
       "115         0.442017               -1.574183               0\n",
       "17          0.459310                1.541358               0"
      ]
     },
     "execution_count": 15,
     "metadata": {},
     "output_type": "execute_result"
    }
   ],
   "source": [
    "df = pd.read_csv(\"db_estrelas.csv\")\n",
    "\n",
    "df = df[(df['Spectral Class'] == 'B') | (df['Spectral Class'] == 'M')]\n",
    "df['Spectral Class'].replace(to_replace='B', value=1, inplace=True)\n",
    "df['Spectral Class'].replace(to_replace='M', value=0, inplace=True)\n",
    "\n",
    "# ======================================================== #\n",
    "# =================== Seleção de Dados =================== #\n",
    "# ======================================================== #\n",
    "dados = {\n",
    "    'X' : ['Temperature (K)', 'Absolute magnitude(Mv)'],\n",
    "    'y' : 'Spectral Class',\n",
    "    'normalizada' : False\n",
    "}\n",
    "# ======================================================== #\n",
    "\n",
    "\n",
    "df = df[ dados['X']+[dados['y']] ]\n",
    "df = df.dropna()\n",
    "\n",
    "if not dados['normalizada']:\n",
    "    for col in dados['X']:\n",
    "        df[[col]] = df[[col]]/df[[col]].mean()\n",
    "\n",
    "X = df[ dados['X'] ].to_numpy()\n",
    "y = df[[ dados['y'] ]].to_numpy()\n",
    "y = np.hstack((y)).T\n",
    "\n",
    "df.sample(5)"
   ]
  },
  {
   "cell_type": "markdown",
   "id": "b8e8382f",
   "metadata": {},
   "source": [
    "## Aplicando a regressão logística\n",
    "*Aplica a função e avalia a precisão da previsão.*"
   ]
  },
  {
   "cell_type": "code",
   "execution_count": 16,
   "id": "137d0114",
   "metadata": {},
   "outputs": [
    {
     "name": "stdout",
     "output_type": "stream",
     "text": [
      "A precisão do modelo é: 1.0\n"
     ]
    }
   ],
   "source": [
    "regressor = LogisticRegression(learning_rate=1, n_iters=1000)\n",
    "regressor.fit(X, y)\n",
    "predictions = regressor.predict(X)\n",
    "\n",
    "def accuracy(y_true, y_pred):\n",
    "    accuracy = np.sum(y_true == y_pred) / len(y_true)\n",
    "    return accuracy\n",
    "\n",
    "print(f\"A precisão do modelo é: {accuracy(y, predictions)}\")"
   ]
  },
  {
   "cell_type": "markdown",
   "id": "955058f9",
   "metadata": {},
   "source": [
    "# Plotando os resultados visualmente\n",
    "*~ se você estiver analisando exatamente 2 vars numéricas ~*"
   ]
  },
  {
   "cell_type": "code",
   "execution_count": 17,
   "id": "17af5fdb",
   "metadata": {
    "scrolled": true
   },
   "outputs": [
    {
     "data": {
      "image/png": "[encoded data removed]",
      "text/plain": [
       "<Figure size 432x288 with 1 Axes>"
      ]
     },
     "metadata": {},
     "output_type": "display_data"
    }
   ],
   "source": [
    "try:\n",
    "    regressor.plot(X, y, dados['X'])\n",
    "except:\n",
    "    print(\"Sem visualização disponível.\")"
   ]
  },
  {
   "cell_type": "markdown",
   "id": "93119e2a",
   "metadata": {},
   "source": [
    "## Mostrando os pesos\n",
    "*Cria uma tabela mostrando os pesos de avaliação das variáveis numéricas.*"
   ]
  },
  {
   "cell_type": "code",
   "execution_count": 18,
   "id": "2b471cfb",
   "metadata": {
    "scrolled": false
   },
   "outputs": [
    {
     "data": {
      "text/html": [
       "<div>\n",
       "<style scoped>\n",
       "    .dataframe tbody tr th:only-of-type {\n",
       "        vertical-align: middle;\n",
       "    }\n",
       "\n",
       "    .dataframe tbody tr th {\n",
       "        vertical-align: top;\n",
       "    }\n",
       "\n",
       "    .dataframe thead th {\n",
       "        text-align: right;\n",
       "    }\n",
       "</style>\n",
       "<table border=\"1\" class=\"dataframe\">\n",
       "  <thead>\n",
       "    <tr style=\"text-align: right;\">\n",
       "      <th></th>\n",
       "      <th>Pesos</th>\n",
       "    </tr>\n",
       "  </thead>\n",
       "  <tbody>\n",
       "    <tr>\n",
       "      <th>Temperature (K)</th>\n",
       "      <td>0.977317</td>\n",
       "    </tr>\n",
       "    <tr>\n",
       "      <th>Absolute magnitude(Mv)</th>\n",
       "      <td>-0.022683</td>\n",
       "    </tr>\n",
       "  </tbody>\n",
       "</table>\n",
       "</div>"
      ],
      "text/plain": [
       "                           Pesos\n",
       "Temperature (K)         0.977317\n",
       "Absolute magnitude(Mv) -0.022683"
      ]
     },
     "execution_count": 18,
     "metadata": {},
     "output_type": "execute_result"
    }
   ],
   "source": [
    "norma_pesos = pd.DataFrame(regressor.weights)/pd.DataFrame(regressor.weights).abs().sum()\n",
    "norma_pesos = norma_pesos[0].values.tolist()\n",
    "\n",
    "dfpesos = pd.DataFrame({'Pesos':norma_pesos}, index=dados['X'])\n",
    "\n",
    "dfpesos"
   ]
  },
  {
   "cell_type": "markdown",
   "id": "dfbbf2ae",
   "metadata": {},
   "source": [
    "# Comparando Estrelas A(brancas) com F(branco-amareladas)"
   ]
  },
  {
   "cell_type": "code",
   "execution_count": 7,
   "id": "51535331",
   "metadata": {},
   "outputs": [
    {
     "data": {
      "text/html": [
       "<div>\n",
       "<style scoped>\n",
       "    .dataframe tbody tr th:only-of-type {\n",
       "        vertical-align: middle;\n",
       "    }\n",
       "\n",
       "    .dataframe tbody tr th {\n",
       "        vertical-align: top;\n",
       "    }\n",
       "\n",
       "    .dataframe thead th {\n",
       "        text-align: right;\n",
       "    }\n",
       "</style>\n",
       "<table border=\"1\" class=\"dataframe\">\n",
       "  <thead>\n",
       "    <tr style=\"text-align: right;\">\n",
       "      <th></th>\n",
       "      <th>Temperature (K)</th>\n",
       "      <th>Absolute magnitude(Mv)</th>\n",
       "      <th>Spectral Class</th>\n",
       "    </tr>\n",
       "  </thead>\n",
       "  <tbody>\n",
       "    <tr>\n",
       "      <th>35</th>\n",
       "      <td>0.873658</td>\n",
       "      <td>0.388896</td>\n",
       "      <td>1</td>\n",
       "    </tr>\n",
       "    <tr>\n",
       "      <th>36</th>\n",
       "      <td>0.733148</td>\n",
       "      <td>0.387289</td>\n",
       "      <td>0</td>\n",
       "    </tr>\n",
       "    <tr>\n",
       "      <th>152</th>\n",
       "      <td>1.525539</td>\n",
       "      <td>-0.327829</td>\n",
       "      <td>1</td>\n",
       "    </tr>\n",
       "    <tr>\n",
       "      <th>38</th>\n",
       "      <td>0.644068</td>\n",
       "      <td>0.716725</td>\n",
       "      <td>0</td>\n",
       "    </tr>\n",
       "    <tr>\n",
       "      <th>23</th>\n",
       "      <td>0.922267</td>\n",
       "      <td>2.330159</td>\n",
       "      <td>1</td>\n",
       "    </tr>\n",
       "  </tbody>\n",
       "</table>\n",
       "</div>"
      ],
      "text/plain": [
       "     Temperature (K)  Absolute magnitude(Mv)  Spectral Class\n",
       "35          0.873658                0.388896               1\n",
       "36          0.733148                0.387289               0\n",
       "152         1.525539               -0.327829               1\n",
       "38          0.644068                0.716725               0\n",
       "23          0.922267                2.330159               1"
      ]
     },
     "execution_count": 7,
     "metadata": {},
     "output_type": "execute_result"
    }
   ],
   "source": [
    "df = pd.read_csv(\"db_estrelas.csv\")\n",
    "\n",
    "df = df[(df['Spectral Class'] == 'A') | (df['Spectral Class'] == 'F')]\n",
    "df['Spectral Class'].replace(to_replace='A', value=1, inplace=True)\n",
    "df['Spectral Class'].replace(to_replace='F', value=0, inplace=True)\n",
    "\n",
    "# ======================================================== #\n",
    "# =================== Seleção de Dados =================== #\n",
    "# ======================================================== #\n",
    "dados = {\n",
    "    'X' : ['Temperature (K)', 'Absolute magnitude(Mv)'],\n",
    "    'y' : 'Spectral Class',\n",
    "    'normalizada' : False\n",
    "}\n",
    "# ======================================================== #\n",
    "\n",
    "\n",
    "df = df[ dados['X']+[dados['y']] ]\n",
    "df = df.dropna()\n",
    "\n",
    "if not dados['normalizada']:\n",
    "    for col in dados['X']:\n",
    "        df[[col]] = df[[col]]/df[[col]].mean()\n",
    "\n",
    "X = df[ dados['X'] ].to_numpy()\n",
    "y = df[[ dados['y'] ]].to_numpy()\n",
    "y = np.hstack((y)).T\n",
    "\n",
    "df.sample(5)"
   ]
  },
  {
   "cell_type": "markdown",
   "id": "5b29d228",
   "metadata": {},
   "source": [
    "## Aplicando a regressão logística\n",
    "*Aplica a função e avalia a precisão da previsão.*"
   ]
  },
  {
   "cell_type": "code",
   "execution_count": 8,
   "id": "6b810b2f",
   "metadata": {},
   "outputs": [
    {
     "name": "stdout",
     "output_type": "stream",
     "text": [
      "A precisão do modelo é: 0.7222222222222222\n"
     ]
    }
   ],
   "source": [
    "regressor = LogisticRegression(learning_rate=0.000001, n_iters=2000)\n",
    "regressor.fit(X, y)\n",
    "predictions = regressor.predict(X)\n",
    "\n",
    "def accuracy(y_true, y_pred):\n",
    "    accuracy = np.sum(y_true == y_pred) / len(y_true)\n",
    "    return accuracy\n",
    "\n",
    "print(f\"A precisão do modelo é: {accuracy(y, predictions)}\")"
   ]
  },
  {
   "cell_type": "markdown",
   "id": "2f8e77d8",
   "metadata": {},
   "source": [
    "# Plotando os resultados visualmente\n",
    "*~ se você estiver analisando exatamente 2 vars numéricas ~*"
   ]
  },
  {
   "cell_type": "code",
   "execution_count": 9,
   "id": "c5380d5c",
   "metadata": {
    "scrolled": true
   },
   "outputs": [
    {
     "data": {
      "image/png": "[encoded data removed]",
      "text/plain": [
       "<Figure size 432x288 with 1 Axes>"
      ]
     },
     "metadata": {},
     "output_type": "display_data"
    }
   ],
   "source": [
    "try:\n",
    "    regressor.plot(X, y, dados['X'])\n",
    "except:\n",
    "    print(\"Sem visualização disponível.\")"
   ]
  },
  {
   "cell_type": "markdown",
   "id": "2bf694ba",
   "metadata": {},
   "source": [
    "## Mostrando os pesos\n",
    "*Cria uma tabela mostrando os pesos de avaliação das variáveis numéricas.*"
   ]
  },
  {
   "cell_type": "code",
   "execution_count": 10,
   "id": "9e15983a",
   "metadata": {
    "scrolled": true
   },
   "outputs": [
    {
     "data": {
      "text/html": [
       "<div>\n",
       "<style scoped>\n",
       "    .dataframe tbody tr th:only-of-type {\n",
       "        vertical-align: middle;\n",
       "    }\n",
       "\n",
       "    .dataframe tbody tr th {\n",
       "        vertical-align: top;\n",
       "    }\n",
       "\n",
       "    .dataframe thead th {\n",
       "        text-align: right;\n",
       "    }\n",
       "</style>\n",
       "<table border=\"1\" class=\"dataframe\">\n",
       "  <thead>\n",
       "    <tr style=\"text-align: right;\">\n",
       "      <th></th>\n",
       "      <th>Pesos</th>\n",
       "    </tr>\n",
       "  </thead>\n",
       "  <tbody>\n",
       "    <tr>\n",
       "      <th>Temperature (K)</th>\n",
       "      <td>0.293145</td>\n",
       "    </tr>\n",
       "    <tr>\n",
       "      <th>Absolute magnitude(Mv)</th>\n",
       "      <td>-0.706855</td>\n",
       "    </tr>\n",
       "  </tbody>\n",
       "</table>\n",
       "</div>"
      ],
      "text/plain": [
       "                           Pesos\n",
       "Temperature (K)         0.293145\n",
       "Absolute magnitude(Mv) -0.706855"
      ]
     },
     "execution_count": 10,
     "metadata": {},
     "output_type": "execute_result"
    }
   ],
   "source": [
    "norma_pesos = pd.DataFrame(regressor.weights)/pd.DataFrame(regressor.weights).abs().sum()\n",
    "norma_pesos = norma_pesos[0].values.tolist()\n",
    "\n",
    "dfpesos = pd.DataFrame({'Pesos':norma_pesos}, index=dados['X'])\n",
    "\n",
    "dfpesos"
   ]
  }
 ],
 "metadata": {
  "kernelspec": {
   "display_name": "Python [conda env:root] *",
   "language": "python",
   "name": "conda-root-py"
  },
  "language_info": {
   "codemirror_mode": {
    "name": "ipython",
    "version": 3
   },
   "file_extension": ".py",
   "mimetype": "text/x-python",
   "name": "python",
   "nbconvert_exporter": "python",
   "pygments_lexer": "ipython3",
   "version": "3.8.8"
  }
 },
 "nbformat": 4,
 "nbformat_minor": 5
}
