{
 "cells": [
  {
   "cell_type": "markdown",
   "metadata": {},
   "source": [
    "# Previsão se um aluno vai tirar >= 7 na prova com base no teste"
   ]
  },
  {
   "cell_type": "code",
   "execution_count": 1,
   "metadata": {},
   "outputs": [],
   "source": [
    "import numpy as np\n",
    "import pandas as pd \n",
    "\n",
    "import seaborn as sns\n",
    "import matplotlib.pyplot as plt"
   ]
  },
  {
   "cell_type": "markdown",
   "metadata": {},
   "source": [
    "## Classe de regressão logística\n",
    "*Faz o trabalho pesado em regressão logística.*"
   ]
  },
  {
   "cell_type": "code",
   "execution_count": 2,
   "metadata": {},
   "outputs": [],
   "source": [
    "class LogisticRegression:\n",
    "    def __init__(self, learning_rate=0.001, n_iters=1000):\n",
    "        self.lr = learning_rate\n",
    "        self.n_iters = n_iters\n",
    "        self.weights = None\n",
    "        self.bias = None\n",
    "\n",
    "    def fit(self, X, y):\n",
    "        n_samples, n_features = X.shape\n",
    "\n",
    "        # init parameters\n",
    "        self.weights = np.zeros(n_features)\n",
    "        self.bias = 0\n",
    "\n",
    "        # gradient descent\n",
    "        for _ in range(self.n_iters):\n",
    "            # approximate y with linear combination of weights and x, plus bias\n",
    "            linear_model = np.dot(X, self.weights) + self.bias\n",
    "            # apply sigmoid function\n",
    "            y_predicted = self._sigmoid(linear_model)\n",
    "\n",
    "            # compute gradients\n",
    "            dw = (1 / n_samples) * np.dot(X.T, (y_predicted - y))\n",
    "            db = (1 / n_samples) * np.sum(y_predicted - y)\n",
    "            # update parameters\n",
    "            self.weights -= self.lr * dw\n",
    "            self.bias -= self.lr * db\n",
    "\n",
    "    def predict(self, X):\n",
    "        linear_model = np.dot(X, self.weights) + self.bias\n",
    "        y_predicted = self._sigmoid(linear_model)\n",
    "        y_predicted_cls = [1 if i > 0.5 else 0 for i in y_predicted]\n",
    "        \n",
    "        return np.array(y_predicted_cls)\n",
    "    \n",
    "    def plot(self, X, y, legend):\n",
    "        # only plots if X refers to exactly 2 variables\n",
    "        if X.shape[1] != 2:\n",
    "            raise ValueError(\"Can plot only for X's that refers to exactly 2 vars.\")\n",
    "        \n",
    "        slope = -(self.weights[0]/self.weights[1])\n",
    "        intercept = -(self.bias/self.weights[1])\n",
    "        predictions = self.predict(X)\n",
    "\n",
    "        sns.set_style('white')\n",
    "        sns.scatterplot(x = X[:,0], y= X[:,1], hue=y.reshape(-1), style=predictions.reshape(-1));\n",
    "\n",
    "        ax = plt.gca()\n",
    "        ax.autoscale(False)\n",
    "        x_vals = np.array(ax.get_xlim())\n",
    "        y_vals = intercept + (slope * x_vals)\n",
    "        plt.plot(x_vals, y_vals, c=\"k\");\n",
    "        \n",
    "        plt.xlabel(legend[0])\n",
    "        plt.ylabel(legend[1])\n",
    "\n",
    "    def _sigmoid(self, x):\n",
    "        return 1 / (1 + np.exp(-x))"
   ]
  },
  {
   "cell_type": "markdown",
   "metadata": {},
   "source": [
    "## Importando a base\n",
    "*Importa a base, seleciona as variáveis, limpa, normaliza.*\n"
   ]
  },
  {
   "cell_type": "code",
   "execution_count": 113,
   "metadata": {
    "scrolled": true
   },
   "outputs": [
    {
     "data": {
      "text/html": [
       "<div>\n",
       "<style scoped>\n",
       "    .dataframe tbody tr th:only-of-type {\n",
       "        vertical-align: middle;\n",
       "    }\n",
       "\n",
       "    .dataframe tbody tr th {\n",
       "        vertical-align: top;\n",
       "    }\n",
       "\n",
       "    .dataframe thead th {\n",
       "        text-align: right;\n",
       "    }\n",
       "</style>\n",
       "<table border=\"1\" class=\"dataframe\">\n",
       "  <thead>\n",
       "    <tr style=\"text-align: right;\">\n",
       "      <th></th>\n",
       "      <th>school</th>\n",
       "      <th>school_setting</th>\n",
       "      <th>school_type</th>\n",
       "      <th>classroom</th>\n",
       "      <th>teaching_method</th>\n",
       "      <th>n_student</th>\n",
       "      <th>student_id</th>\n",
       "      <th>gender</th>\n",
       "      <th>lunch</th>\n",
       "      <th>pretest</th>\n",
       "      <th>posttest</th>\n",
       "    </tr>\n",
       "  </thead>\n",
       "  <tbody>\n",
       "    <tr>\n",
       "      <th>1509</th>\n",
       "      <td>UKPGS</td>\n",
       "      <td>Suburban</td>\n",
       "      <td>Public</td>\n",
       "      <td>9AW</td>\n",
       "      <td>Standard</td>\n",
       "      <td>25.0</td>\n",
       "      <td>NMN96</td>\n",
       "      <td>Female</td>\n",
       "      <td>Does not qualify</td>\n",
       "      <td>87.0</td>\n",
       "      <td>92.0</td>\n",
       "    </tr>\n",
       "    <tr>\n",
       "      <th>1879</th>\n",
       "      <td>VVTVA</td>\n",
       "      <td>Urban</td>\n",
       "      <td>Public</td>\n",
       "      <td>A93</td>\n",
       "      <td>Experimental</td>\n",
       "      <td>30.0</td>\n",
       "      <td>HY8JN</td>\n",
       "      <td>Male</td>\n",
       "      <td>Qualifies for reduced/free lunch</td>\n",
       "      <td>29.0</td>\n",
       "      <td>39.0</td>\n",
       "    </tr>\n",
       "    <tr>\n",
       "      <th>1598</th>\n",
       "      <td>UUUQX</td>\n",
       "      <td>Suburban</td>\n",
       "      <td>Non-public</td>\n",
       "      <td>6C1</td>\n",
       "      <td>Standard</td>\n",
       "      <td>16.0</td>\n",
       "      <td>0KUVX</td>\n",
       "      <td>Female</td>\n",
       "      <td>Does not qualify</td>\n",
       "      <td>62.0</td>\n",
       "      <td>75.0</td>\n",
       "    </tr>\n",
       "    <tr>\n",
       "      <th>790</th>\n",
       "      <td>GOOBU</td>\n",
       "      <td>Urban</td>\n",
       "      <td>Public</td>\n",
       "      <td>U6J</td>\n",
       "      <td>Standard</td>\n",
       "      <td>25.0</td>\n",
       "      <td>3TJ3A</td>\n",
       "      <td>Female</td>\n",
       "      <td>Qualifies for reduced/free lunch</td>\n",
       "      <td>43.0</td>\n",
       "      <td>53.0</td>\n",
       "    </tr>\n",
       "    <tr>\n",
       "      <th>284</th>\n",
       "      <td>CUQAM</td>\n",
       "      <td>Urban</td>\n",
       "      <td>Public</td>\n",
       "      <td>OMI</td>\n",
       "      <td>Standard</td>\n",
       "      <td>28.0</td>\n",
       "      <td>2EQ4L</td>\n",
       "      <td>Male</td>\n",
       "      <td>Does not qualify</td>\n",
       "      <td>61.0</td>\n",
       "      <td>62.0</td>\n",
       "    </tr>\n",
       "  </tbody>\n",
       "</table>\n",
       "</div>"
      ],
      "text/plain": [
       "     school school_setting school_type classroom teaching_method  n_student  \\\n",
       "1509  UKPGS       Suburban      Public       9AW        Standard       25.0   \n",
       "1879  VVTVA          Urban      Public       A93    Experimental       30.0   \n",
       "1598  UUUQX       Suburban  Non-public       6C1        Standard       16.0   \n",
       "790   GOOBU          Urban      Public       U6J        Standard       25.0   \n",
       "284   CUQAM          Urban      Public       OMI        Standard       28.0   \n",
       "\n",
       "     student_id  gender                             lunch  pretest  posttest  \n",
       "1509      NMN96  Female                  Does not qualify     87.0      92.0  \n",
       "1879      HY8JN    Male  Qualifies for reduced/free lunch     29.0      39.0  \n",
       "1598      0KUVX  Female                  Does not qualify     62.0      75.0  \n",
       "790       3TJ3A  Female  Qualifies for reduced/free lunch     43.0      53.0  \n",
       "284       2EQ4L    Male                  Does not qualify     61.0      62.0  "
      ]
     },
     "execution_count": 113,
     "metadata": {},
     "output_type": "execute_result"
    }
   ],
   "source": [
    "df = pd.read_csv(\"db_estudantes.csv\")\n",
    "\n",
    "df.sample(5)"
   ]
  },
  {
   "cell_type": "code",
   "execution_count": 114,
   "metadata": {},
   "outputs": [
    {
     "data": {
      "text/html": [
       "<div>\n",
       "<style scoped>\n",
       "    .dataframe tbody tr th:only-of-type {\n",
       "        vertical-align: middle;\n",
       "    }\n",
       "\n",
       "    .dataframe tbody tr th {\n",
       "        vertical-align: top;\n",
       "    }\n",
       "\n",
       "    .dataframe thead th {\n",
       "        text-align: right;\n",
       "    }\n",
       "</style>\n",
       "<table border=\"1\" class=\"dataframe\">\n",
       "  <thead>\n",
       "    <tr style=\"text-align: right;\">\n",
       "      <th></th>\n",
       "      <th>pretest</th>\n",
       "      <th>posttest</th>\n",
       "    </tr>\n",
       "  </thead>\n",
       "  <tbody>\n",
       "    <tr>\n",
       "      <th>1642</th>\n",
       "      <td>75.0</td>\n",
       "      <td>1</td>\n",
       "    </tr>\n",
       "    <tr>\n",
       "      <th>1777</th>\n",
       "      <td>63.0</td>\n",
       "      <td>1</td>\n",
       "    </tr>\n",
       "    <tr>\n",
       "      <th>1826</th>\n",
       "      <td>51.0</td>\n",
       "      <td>0</td>\n",
       "    </tr>\n",
       "    <tr>\n",
       "      <th>883</th>\n",
       "      <td>75.0</td>\n",
       "      <td>1</td>\n",
       "    </tr>\n",
       "    <tr>\n",
       "      <th>154</th>\n",
       "      <td>54.0</td>\n",
       "      <td>0</td>\n",
       "    </tr>\n",
       "  </tbody>\n",
       "</table>\n",
       "</div>"
      ],
      "text/plain": [
       "      pretest  posttest\n",
       "1642     75.0         1\n",
       "1777     63.0         1\n",
       "1826     51.0         0\n",
       "883      75.0         1\n",
       "154      54.0         0"
      ]
     },
     "execution_count": 114,
     "metadata": {},
     "output_type": "execute_result"
    }
   ],
   "source": [
    "def booleamize(x):\n",
    "\treturn round((x-20)/100)\n",
    "\n",
    "df['posttest'] = df['posttest'].apply(booleamize)\n",
    "# ======================================================== #\n",
    "# =================== Seleção de Dados =================== #\n",
    "# ======================================================== #\n",
    "dados = {\n",
    "    'X' : ['pretest'],\n",
    "    'y' : 'posttest',\n",
    "    'normalizada' : True\n",
    "}\n",
    "# ======================================================== #\n",
    "\n",
    "\n",
    "df = df[ dados['X']+[dados['y']] ]\n",
    "df = df.dropna()\n",
    "\n",
    "if not dados['normalizada']:\n",
    "    for col in dados['X']:\n",
    "        df[[col]] = df[[col]]/df[[col]].mean()\n",
    "\n",
    "X = df[ dados['X'] ].to_numpy()\n",
    "y = df[[ dados['y'] ]].to_numpy()\n",
    "y = np.hstack((y)).T\n",
    "\n",
    "df.sample(5)"
   ]
  },
  {
   "cell_type": "markdown",
   "metadata": {},
   "source": [
    "## Aplicando a regressão logística\n",
    "*Aplica a função e avalia a precisão da previsão.*"
   ]
  },
  {
   "cell_type": "code",
   "execution_count": 115,
   "metadata": {},
   "outputs": [
    {
     "name": "stdout",
     "output_type": "stream",
     "text": [
      "A precisão do modelo é: 0.8931082981715893\n"
     ]
    }
   ],
   "source": [
    "regressor = LogisticRegression(learning_rate=0.001, n_iters=20000)\n",
    "regressor.fit(X, y)\n",
    "predictions = regressor.predict(X)\n",
    "\n",
    "def accuracy(y_true, y_pred):\n",
    "    accuracy = np.sum(y_true == y_pred) / len(y_true)\n",
    "    return accuracy\n",
    "\n",
    "print(f\"A precisão do modelo é: {accuracy(y, predictions)}\")"
   ]
  },
  {
   "cell_type": "markdown",
   "metadata": {},
   "source": [
    "# Plotando os resultados visualmente\n",
    "*~ se você estiver analisando exatamente 2 vars numéricas ~*"
   ]
  },
  {
   "cell_type": "code",
   "execution_count": 110,
   "metadata": {
    "scrolled": true
   },
   "outputs": [
    {
     "name": "stdout",
     "output_type": "stream",
     "text": [
      "Sem visualização disponível.\n"
     ]
    }
   ],
   "source": [
    "try:\n",
    "    regressor.plot(X, y, dados['X'])\n",
    "except:\n",
    "    print(\"Sem visualização disponível.\")"
   ]
  },
  {
   "cell_type": "markdown",
   "metadata": {},
   "source": [
    "## Mostrando os pesos\n",
    "*Cria uma tabela mostrando os pesos de avaliação das variáveis numéricas.*"
   ]
  },
  {
   "cell_type": "code",
   "execution_count": 111,
   "metadata": {},
   "outputs": [
    {
     "data": {
      "text/html": [
       "<div>\n",
       "<style scoped>\n",
       "    .dataframe tbody tr th:only-of-type {\n",
       "        vertical-align: middle;\n",
       "    }\n",
       "\n",
       "    .dataframe tbody tr th {\n",
       "        vertical-align: top;\n",
       "    }\n",
       "\n",
       "    .dataframe thead th {\n",
       "        text-align: right;\n",
       "    }\n",
       "</style>\n",
       "<table border=\"1\" class=\"dataframe\">\n",
       "  <thead>\n",
       "    <tr style=\"text-align: right;\">\n",
       "      <th></th>\n",
       "      <th>Pesos(%)</th>\n",
       "    </tr>\n",
       "  </thead>\n",
       "  <tbody>\n",
       "    <tr>\n",
       "      <th>pretest</th>\n",
       "      <td>1.0</td>\n",
       "    </tr>\n",
       "  </tbody>\n",
       "</table>\n",
       "</div>"
      ],
      "text/plain": [
       "         Pesos(%)\n",
       "pretest       1.0"
      ]
     },
     "execution_count": 111,
     "metadata": {},
     "output_type": "execute_result"
    }
   ],
   "source": [
    "norma_pesos = pd.DataFrame(regressor.weights)/pd.DataFrame(regressor.weights).abs().sum()\n",
    "norma_pesos = norma_pesos[0].values.tolist()\n",
    "\n",
    "dfpesos = pd.DataFrame({'Pesos(%)':norma_pesos}, index=dados['X'])\n",
    "\n",
    "dfpesos"
   ]
  }
 ],
 "metadata": {
  "kernelspec": {
   "display_name": "Python 3",
   "language": "python",
   "name": "python3"
  },
  "language_info": {
   "codemirror_mode": {
    "name": "ipython",
    "version": 3
   },
   "file_extension": ".py",
   "mimetype": "text/x-python",
   "name": "python",
   "nbconvert_exporter": "python",
   "pygments_lexer": "ipython3",
   "version": "3.8.5"
  }
 },
 "nbformat": 4,
 "nbformat_minor": 5
}
